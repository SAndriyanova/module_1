{
 "cells": [
  {
   "cell_type": "code",
   "execution_count": 9,
   "metadata": {
    "_cell_guid": "b1076dfc-b9ad-4769-8c92-a6c4dae69d19",
    "_uuid": "8f2839f25d086af736a60e9eeb907d3b93b6e0e5",
    "colab": {},
    "colab_type": "code",
    "id": "U2D2gTdJVp90"
   },
   "outputs": [],
   "source": [
    "import numpy as np\n",
    "import pandas as pd\n",
    "import seaborn as sns\n",
    "import matplotlib.pyplot as plt\n",
    "from collections import Counter"
   ]
  },
  {
   "cell_type": "code",
   "execution_count": 60,
   "metadata": {
    "_cell_guid": "79c7e3d0-c299-4dcb-8224-4455121ee9b0",
    "_uuid": "d629ff2d2480ee46fbb7e2d37f6b5fab8052498a",
    "colab": {},
    "colab_type": "code",
    "id": "oyGfxL3eVp9-"
   },
   "outputs": [
    {
     "data": {
      "text/html": [
       "<div>\n",
       "<style scoped>\n",
       "    .dataframe tbody tr th:only-of-type {\n",
       "        vertical-align: middle;\n",
       "    }\n",
       "\n",
       "    .dataframe tbody tr th {\n",
       "        vertical-align: top;\n",
       "    }\n",
       "\n",
       "    .dataframe thead th {\n",
       "        text-align: right;\n",
       "    }\n",
       "</style>\n",
       "<table border=\"1\" class=\"dataframe\">\n",
       "  <thead>\n",
       "    <tr style=\"text-align: right;\">\n",
       "      <th></th>\n",
       "      <th>imdb_id</th>\n",
       "      <th>budget</th>\n",
       "      <th>revenue</th>\n",
       "      <th>original_title</th>\n",
       "      <th>cast</th>\n",
       "      <th>director</th>\n",
       "      <th>tagline</th>\n",
       "      <th>overview</th>\n",
       "      <th>runtime</th>\n",
       "      <th>genres</th>\n",
       "      <th>production_companies</th>\n",
       "      <th>release_date</th>\n",
       "      <th>vote_average</th>\n",
       "      <th>release_year</th>\n",
       "    </tr>\n",
       "  </thead>\n",
       "  <tbody>\n",
       "    <tr>\n",
       "      <th>1563</th>\n",
       "      <td>tt0338013</td>\n",
       "      <td>20000000</td>\n",
       "      <td>72258126</td>\n",
       "      <td>Eternal Sunshine of the Spotless Mind</td>\n",
       "      <td>Jim Carrey|Kate Winslet|Elijah Wood|Mark Ruffa...</td>\n",
       "      <td>Michel Gondry</td>\n",
       "      <td>I already forget how I used to feel about you.</td>\n",
       "      <td>Joel Barish, heartbroken that his girlfriend u...</td>\n",
       "      <td>108</td>\n",
       "      <td>Science Fiction|Drama|Romance</td>\n",
       "      <td>Anonymous Content|This Is That Productions|Foc...</td>\n",
       "      <td>3/19/2004</td>\n",
       "      <td>7.8</td>\n",
       "      <td>2004</td>\n",
       "    </tr>\n",
       "    <tr>\n",
       "      <th>1441</th>\n",
       "      <td>tt0458352</td>\n",
       "      <td>35000000</td>\n",
       "      <td>326551094</td>\n",
       "      <td>The Devil Wears Prada</td>\n",
       "      <td>Meryl Streep|Anne Hathaway|Emily Blunt|Stanley...</td>\n",
       "      <td>David Frankel</td>\n",
       "      <td>Meet Andy Sachs. A million girls would kill to...</td>\n",
       "      <td>The Devil Wears Prada is about a young journal...</td>\n",
       "      <td>109</td>\n",
       "      <td>Comedy|Drama|Romance</td>\n",
       "      <td>Twentieth Century Fox Film Corporation|Dune En...</td>\n",
       "      <td>6/30/2006</td>\n",
       "      <td>7.0</td>\n",
       "      <td>2006</td>\n",
       "    </tr>\n",
       "    <tr>\n",
       "      <th>643</th>\n",
       "      <td>tt0478087</td>\n",
       "      <td>35000000</td>\n",
       "      <td>69823199</td>\n",
       "      <td>21</td>\n",
       "      <td>Jim Sturgess|Kevin Spacey|Kate Bosworth|Aaron ...</td>\n",
       "      <td>Robert Luketic</td>\n",
       "      <td>They proved the Vegas Blackjack System was bea...</td>\n",
       "      <td>Ben Campbell is a young, highly intelligent, s...</td>\n",
       "      <td>123</td>\n",
       "      <td>Drama|Crime</td>\n",
       "      <td>Columbia Pictures|Relativity Media</td>\n",
       "      <td>3/27/2008</td>\n",
       "      <td>6.5</td>\n",
       "      <td>2008</td>\n",
       "    </tr>\n",
       "    <tr>\n",
       "      <th>791</th>\n",
       "      <td>tt1265990</td>\n",
       "      <td>16000000</td>\n",
       "      <td>40492759</td>\n",
       "      <td>The Roommate</td>\n",
       "      <td>Minka Kelly|Leighton Meester|Cam Gigandet|Aly ...</td>\n",
       "      <td>Christian E. Christiansen</td>\n",
       "      <td>2,000 colleges. 8 million roommates. Which one...</td>\n",
       "      <td>When Sara (Minka Kelly), a young design studen...</td>\n",
       "      <td>91</td>\n",
       "      <td>Thriller|Drama|Horror</td>\n",
       "      <td>Vertigo Entertainment|Screen Gems</td>\n",
       "      <td>2/4/2011</td>\n",
       "      <td>5.5</td>\n",
       "      <td>2011</td>\n",
       "    </tr>\n",
       "    <tr>\n",
       "      <th>581</th>\n",
       "      <td>tt0211465</td>\n",
       "      <td>15000000</td>\n",
       "      <td>12000000</td>\n",
       "      <td>Knockaround Guys</td>\n",
       "      <td>Barry Pepper|Andy Davoli|Seth Green|Vin Diesel...</td>\n",
       "      <td>Brian Koppelman|David Levien</td>\n",
       "      <td>If they don't finish the job, their fathers wi...</td>\n",
       "      <td>Four sons of well-known New York mobsters must...</td>\n",
       "      <td>92</td>\n",
       "      <td>Crime|Thriller</td>\n",
       "      <td>Lawrence Bender Productions</td>\n",
       "      <td>9/7/2001</td>\n",
       "      <td>5.7</td>\n",
       "      <td>2001</td>\n",
       "    </tr>\n",
       "  </tbody>\n",
       "</table>\n",
       "</div>"
      ],
      "text/plain": [
       "        imdb_id    budget    revenue                         original_title  \\\n",
       "1563  tt0338013  20000000   72258126  Eternal Sunshine of the Spotless Mind   \n",
       "1441  tt0458352  35000000  326551094                  The Devil Wears Prada   \n",
       "643   tt0478087  35000000   69823199                                     21   \n",
       "791   tt1265990  16000000   40492759                           The Roommate   \n",
       "581   tt0211465  15000000   12000000                       Knockaround Guys   \n",
       "\n",
       "                                                   cast  \\\n",
       "1563  Jim Carrey|Kate Winslet|Elijah Wood|Mark Ruffa...   \n",
       "1441  Meryl Streep|Anne Hathaway|Emily Blunt|Stanley...   \n",
       "643   Jim Sturgess|Kevin Spacey|Kate Bosworth|Aaron ...   \n",
       "791   Minka Kelly|Leighton Meester|Cam Gigandet|Aly ...   \n",
       "581   Barry Pepper|Andy Davoli|Seth Green|Vin Diesel...   \n",
       "\n",
       "                          director  \\\n",
       "1563                 Michel Gondry   \n",
       "1441                 David Frankel   \n",
       "643                 Robert Luketic   \n",
       "791      Christian E. Christiansen   \n",
       "581   Brian Koppelman|David Levien   \n",
       "\n",
       "                                                tagline  \\\n",
       "1563     I already forget how I used to feel about you.   \n",
       "1441  Meet Andy Sachs. A million girls would kill to...   \n",
       "643   They proved the Vegas Blackjack System was bea...   \n",
       "791   2,000 colleges. 8 million roommates. Which one...   \n",
       "581   If they don't finish the job, their fathers wi...   \n",
       "\n",
       "                                               overview  runtime  \\\n",
       "1563  Joel Barish, heartbroken that his girlfriend u...      108   \n",
       "1441  The Devil Wears Prada is about a young journal...      109   \n",
       "643   Ben Campbell is a young, highly intelligent, s...      123   \n",
       "791   When Sara (Minka Kelly), a young design studen...       91   \n",
       "581   Four sons of well-known New York mobsters must...       92   \n",
       "\n",
       "                             genres  \\\n",
       "1563  Science Fiction|Drama|Romance   \n",
       "1441           Comedy|Drama|Romance   \n",
       "643                     Drama|Crime   \n",
       "791           Thriller|Drama|Horror   \n",
       "581                  Crime|Thriller   \n",
       "\n",
       "                                   production_companies release_date  \\\n",
       "1563  Anonymous Content|This Is That Productions|Foc...    3/19/2004   \n",
       "1441  Twentieth Century Fox Film Corporation|Dune En...    6/30/2006   \n",
       "643                  Columbia Pictures|Relativity Media    3/27/2008   \n",
       "791                   Vertigo Entertainment|Screen Gems     2/4/2011   \n",
       "581                         Lawrence Bender Productions     9/7/2001   \n",
       "\n",
       "      vote_average  release_year  \n",
       "1563           7.8          2004  \n",
       "1441           7.0          2006  \n",
       "643            6.5          2008  \n",
       "791            5.5          2011  \n",
       "581            5.7          2001  "
      ]
     },
     "execution_count": 60,
     "metadata": {},
     "output_type": "execute_result"
    }
   ],
   "source": [
    "data = pd.read_csv('movie_bd_v5.csv')\n",
    "data.sample(5)"
   ]
  },
  {
   "cell_type": "code",
   "execution_count": 11,
   "metadata": {
    "colab": {},
    "colab_type": "code",
    "id": "CoYUnagMVp-C"
   },
   "outputs": [
    {
     "data": {
      "text/html": [
       "<div>\n",
       "<style scoped>\n",
       "    .dataframe tbody tr th:only-of-type {\n",
       "        vertical-align: middle;\n",
       "    }\n",
       "\n",
       "    .dataframe tbody tr th {\n",
       "        vertical-align: top;\n",
       "    }\n",
       "\n",
       "    .dataframe thead th {\n",
       "        text-align: right;\n",
       "    }\n",
       "</style>\n",
       "<table border=\"1\" class=\"dataframe\">\n",
       "  <thead>\n",
       "    <tr style=\"text-align: right;\">\n",
       "      <th></th>\n",
       "      <th>budget</th>\n",
       "      <th>revenue</th>\n",
       "      <th>runtime</th>\n",
       "      <th>vote_average</th>\n",
       "      <th>release_year</th>\n",
       "    </tr>\n",
       "  </thead>\n",
       "  <tbody>\n",
       "    <tr>\n",
       "      <th>count</th>\n",
       "      <td>1.889000e+03</td>\n",
       "      <td>1.889000e+03</td>\n",
       "      <td>1889.000000</td>\n",
       "      <td>1889.000000</td>\n",
       "      <td>1889.000000</td>\n",
       "    </tr>\n",
       "    <tr>\n",
       "      <th>mean</th>\n",
       "      <td>5.431083e+07</td>\n",
       "      <td>1.553653e+08</td>\n",
       "      <td>109.658549</td>\n",
       "      <td>6.140762</td>\n",
       "      <td>2007.860773</td>\n",
       "    </tr>\n",
       "    <tr>\n",
       "      <th>std</th>\n",
       "      <td>4.858721e+07</td>\n",
       "      <td>2.146698e+08</td>\n",
       "      <td>18.017041</td>\n",
       "      <td>0.764763</td>\n",
       "      <td>4.468841</td>\n",
       "    </tr>\n",
       "    <tr>\n",
       "      <th>min</th>\n",
       "      <td>5.000000e+06</td>\n",
       "      <td>2.033165e+06</td>\n",
       "      <td>63.000000</td>\n",
       "      <td>3.300000</td>\n",
       "      <td>2000.000000</td>\n",
       "    </tr>\n",
       "    <tr>\n",
       "      <th>25%</th>\n",
       "      <td>2.000000e+07</td>\n",
       "      <td>3.456058e+07</td>\n",
       "      <td>97.000000</td>\n",
       "      <td>5.600000</td>\n",
       "      <td>2004.000000</td>\n",
       "    </tr>\n",
       "    <tr>\n",
       "      <th>50%</th>\n",
       "      <td>3.800000e+07</td>\n",
       "      <td>8.361541e+07</td>\n",
       "      <td>107.000000</td>\n",
       "      <td>6.100000</td>\n",
       "      <td>2008.000000</td>\n",
       "    </tr>\n",
       "    <tr>\n",
       "      <th>75%</th>\n",
       "      <td>7.200000e+07</td>\n",
       "      <td>1.782626e+08</td>\n",
       "      <td>120.000000</td>\n",
       "      <td>6.600000</td>\n",
       "      <td>2012.000000</td>\n",
       "    </tr>\n",
       "    <tr>\n",
       "      <th>max</th>\n",
       "      <td>3.800000e+08</td>\n",
       "      <td>2.781506e+09</td>\n",
       "      <td>214.000000</td>\n",
       "      <td>8.100000</td>\n",
       "      <td>2015.000000</td>\n",
       "    </tr>\n",
       "  </tbody>\n",
       "</table>\n",
       "</div>"
      ],
      "text/plain": [
       "             budget       revenue      runtime  vote_average  release_year\n",
       "count  1.889000e+03  1.889000e+03  1889.000000   1889.000000   1889.000000\n",
       "mean   5.431083e+07  1.553653e+08   109.658549      6.140762   2007.860773\n",
       "std    4.858721e+07  2.146698e+08    18.017041      0.764763      4.468841\n",
       "min    5.000000e+06  2.033165e+06    63.000000      3.300000   2000.000000\n",
       "25%    2.000000e+07  3.456058e+07    97.000000      5.600000   2004.000000\n",
       "50%    3.800000e+07  8.361541e+07   107.000000      6.100000   2008.000000\n",
       "75%    7.200000e+07  1.782626e+08   120.000000      6.600000   2012.000000\n",
       "max    3.800000e+08  2.781506e+09   214.000000      8.100000   2015.000000"
      ]
     },
     "execution_count": 11,
     "metadata": {},
     "output_type": "execute_result"
    }
   ],
   "source": [
    "data.describe()"
   ]
  },
  {
   "cell_type": "markdown",
   "metadata": {
    "colab_type": "text",
    "id": "DTIt7ezGVp-G"
   },
   "source": [
    "# Предобработка"
   ]
  },
  {
   "cell_type": "code",
   "execution_count": 18,
   "metadata": {
    "colab": {},
    "colab_type": "code",
    "id": "jNb40DwKVp-H"
   },
   "outputs": [],
   "source": [
    "answers = {}"
   ]
  },
  {
   "cell_type": "code",
   "execution_count": 61,
   "metadata": {},
   "outputs": [],
   "source": [
    "data['profit'] = data.revenue - data.budget\n",
    "'''add column with movie profit'''"
   ]
  },
  {
   "cell_type": "code",
   "execution_count": 62,
   "metadata": {},
   "outputs": [],
   "source": [
    "date = data['release_date'].str.split('/', expand=True)\n",
    "month_count = date.rename(columns={0: \"month\", 1: \"day\", 2: 'year'})\n",
    "'''extra dataframe with separeted month, day, year of release'''"
   ]
  },
  {
   "cell_type": "code",
   "execution_count": 63,
   "metadata": {},
   "outputs": [],
   "source": [
    "data['release_month'] = month_count['month']\n",
    "'''add column with relese month'''"
   ]
  },
  {
   "cell_type": "code",
   "execution_count": 64,
   "metadata": {},
   "outputs": [],
   "source": [
    "data['len_original_title'] = data.original_title.apply(lambda x: len(x))\n",
    "'''add column with movie title length'''"
   ]
  },
  {
   "cell_type": "code",
   "execution_count": 65,
   "metadata": {},
   "outputs": [],
   "source": [
    "data['genres_list'] = data['genres'].str.split('|')\n",
    "'''add column with list of genres, which describes the movie'''"
   ]
  },
  {
   "cell_type": "code",
   "execution_count": 90,
   "metadata": {},
   "outputs": [],
   "source": [
    "data['description_word_number'] = data.overview.apply(lambda x: len(x.split()))\n",
    "'''add column to calculate words in overview column'''"
   ]
  },
  {
   "cell_type": "markdown",
   "metadata": {
    "colab_type": "text",
    "id": "YxZaH-nPVp-L"
   },
   "source": [
    "# 1. У какого фильма из списка самый большой бюджет?"
   ]
  },
  {
   "cell_type": "markdown",
   "metadata": {
    "colab_type": "text",
    "id": "Nd-G5gX6Vp-M"
   },
   "source": [
    "Использовать варианты ответов в коде решения запрещено.    \n",
    "Вы думаете и в жизни у вас будут варианты ответов?)"
   ]
  },
  {
   "cell_type": "code",
   "execution_count": 25,
   "metadata": {
    "colab": {},
    "colab_type": "code",
    "id": "uVnXAY5RVp-O"
   },
   "outputs": [],
   "source": [
    "# в словарь вставляем номер вопроса и ваш ответ на него\n",
    "# Пример:\n",
    "#answers['1'] = '2. Spider-Man 3 (tt0413300)'\n",
    "# запишите свой вариант ответа\n",
    "answers['1'] = 'Pirates of the Caribbean: On Stranger Tides (tt1298650)'\n",
    "# если ответили верно, можете добавить комментарий со значком \"+\"\n",
    "# +"
   ]
  },
  {
   "cell_type": "code",
   "execution_count": 24,
   "metadata": {
    "colab": {},
    "colab_type": "code",
    "id": "dZwb3m28Vp-S"
   },
   "outputs": [
    {
     "data": {
      "text/plain": [
       "723    Pirates of the Caribbean: On Stranger Tides\n",
       "Name: original_title, dtype: object"
      ]
     },
     "execution_count": 24,
     "metadata": {},
     "output_type": "execute_result"
    }
   ],
   "source": [
    "data[(data['budget'] == data.budget.max())].original_title"
   ]
  },
  {
   "cell_type": "markdown",
   "metadata": {
    "colab_type": "text",
    "id": "FNRbbI3vVp-c"
   },
   "source": [
    "# 2. Какой из фильмов самый длительный (в минутах)?"
   ]
  },
  {
   "cell_type": "code",
   "execution_count": 26,
   "metadata": {
    "colab": {},
    "colab_type": "code",
    "id": "vHAoEXNTVp-d"
   },
   "outputs": [],
   "source": [
    "# думаю логику работы с этим словарем вы уже поняли,\n",
    "# по этому не буду больше его дублировать\n",
    "answers['2'] = 'Gods and Generals (tt0279111)'\n",
    "# +"
   ]
  },
  {
   "cell_type": "code",
   "execution_count": 27,
   "metadata": {
    "colab": {},
    "colab_type": "code",
    "id": "ot-VX2XrVp-g"
   },
   "outputs": [
    {
     "data": {
      "text/plain": [
       "1157    Gods and Generals\n",
       "Name: original_title, dtype: object"
      ]
     },
     "execution_count": 27,
     "metadata": {},
     "output_type": "execute_result"
    }
   ],
   "source": [
    "data[(data['runtime'] == data.runtime.max())].original_title"
   ]
  },
  {
   "cell_type": "markdown",
   "metadata": {
    "colab_type": "text",
    "id": "bapLlpW8Vp-k"
   },
   "source": [
    "# 3. Какой из фильмов самый короткий (в минутах)?\n",
    "\n",
    "\n",
    "\n"
   ]
  },
  {
   "cell_type": "code",
   "execution_count": 28,
   "metadata": {},
   "outputs": [],
   "source": [
    "answers['3'] = 'Winnie the Pooh (tt1449283)'\n",
    "# +"
   ]
  },
  {
   "cell_type": "code",
   "execution_count": 29,
   "metadata": {
    "colab": {},
    "colab_type": "code",
    "id": "YBxaSHuAVp-l"
   },
   "outputs": [
    {
     "data": {
      "text/plain": [
       "768    Winnie the Pooh\n",
       "Name: original_title, dtype: object"
      ]
     },
     "execution_count": 29,
     "metadata": {},
     "output_type": "execute_result"
    }
   ],
   "source": [
    "data[(data['runtime'] == data.runtime.min())].original_title"
   ]
  },
  {
   "cell_type": "markdown",
   "metadata": {
    "colab_type": "text",
    "id": "TfQbxbfNVp-p"
   },
   "source": [
    "# 4. Какова средняя длительность фильмов?\n"
   ]
  },
  {
   "cell_type": "code",
   "execution_count": 30,
   "metadata": {},
   "outputs": [],
   "source": [
    "answers['4'] = '110'\n",
    "# +"
   ]
  },
  {
   "cell_type": "code",
   "execution_count": 31,
   "metadata": {
    "colab": {},
    "colab_type": "code",
    "id": "5K6dKZYVVp-q"
   },
   "outputs": [
    {
     "data": {
      "text/plain": [
       "110.0"
      ]
     },
     "execution_count": 31,
     "metadata": {},
     "output_type": "execute_result"
    }
   ],
   "source": [
    "round(data.runtime.mean(), 0)"
   ]
  },
  {
   "cell_type": "markdown",
   "metadata": {
    "colab_type": "text",
    "id": "r5TvbnT_Vp-u"
   },
   "source": [
    "# 5. Каково медианное значение длительности фильмов? "
   ]
  },
  {
   "cell_type": "code",
   "execution_count": 32,
   "metadata": {},
   "outputs": [],
   "source": [
    "answers['5'] = '107'\n",
    "# +"
   ]
  },
  {
   "cell_type": "code",
   "execution_count": 33,
   "metadata": {
    "colab": {},
    "colab_type": "code",
    "id": "iBROplKnVp-v"
   },
   "outputs": [
    {
     "data": {
      "text/plain": [
       "107.0"
      ]
     },
     "execution_count": 33,
     "metadata": {},
     "output_type": "execute_result"
    }
   ],
   "source": [
    "round(data.runtime.median(), 0)"
   ]
  },
  {
   "cell_type": "markdown",
   "metadata": {
    "colab_type": "text",
    "id": "39P-deDSVp-y"
   },
   "source": [
    "# 6. Какой самый прибыльный фильм?\n",
    "#### Внимание! Здесь и далее под «прибылью» или «убытками» понимается разность между сборами и бюджетом фильма. (прибыль = сборы - бюджет) в нашем датасете это будет (profit = revenue - budget) "
   ]
  },
  {
   "cell_type": "code",
   "execution_count": 34,
   "metadata": {
    "colab": {},
    "colab_type": "code",
    "id": "UYZh4T9WVp-y"
   },
   "outputs": [],
   "source": [
    "answers['6'] = 'Avatar (tt0499549)'\n",
    "# +"
   ]
  },
  {
   "cell_type": "code",
   "execution_count": 35,
   "metadata": {},
   "outputs": [
    {
     "data": {
      "text/plain": [
       "239    Avatar\n",
       "Name: original_title, dtype: object"
      ]
     },
     "execution_count": 35,
     "metadata": {},
     "output_type": "execute_result"
    }
   ],
   "source": [
    "data[(data['profit'] == data.profit.max())].original_title"
   ]
  },
  {
   "cell_type": "markdown",
   "metadata": {
    "colab_type": "text",
    "id": "M99JmIX4Vp-2"
   },
   "source": [
    "# 7. Какой фильм самый убыточный? "
   ]
  },
  {
   "cell_type": "code",
   "execution_count": 36,
   "metadata": {},
   "outputs": [],
   "source": [
    "answers['7'] = 'The Lone Ranger (tt1210819)'\n",
    "# +"
   ]
  },
  {
   "cell_type": "code",
   "execution_count": 37,
   "metadata": {
    "colab": {},
    "colab_type": "code",
    "id": "w-D2m4XPVp-3"
   },
   "outputs": [
    {
     "data": {
      "text/plain": [
       "1245    The Lone Ranger\n",
       "Name: original_title, dtype: object"
      ]
     },
     "execution_count": 37,
     "metadata": {},
     "output_type": "execute_result"
    }
   ],
   "source": [
    "data[(data['profit'] == data.profit.min())].original_title"
   ]
  },
  {
   "cell_type": "markdown",
   "metadata": {
    "colab_type": "text",
    "id": "wEOM5ERVVp-6"
   },
   "source": [
    "# 8. У скольких фильмов из датасета объем сборов оказался выше бюджета?"
   ]
  },
  {
   "cell_type": "code",
   "execution_count": 38,
   "metadata": {
    "colab": {},
    "colab_type": "code",
    "id": "y00_7HD6Vp-7"
   },
   "outputs": [],
   "source": [
    "answers['8'] = '1478'\n",
    "# +"
   ]
  },
  {
   "cell_type": "code",
   "execution_count": 39,
   "metadata": {},
   "outputs": [
    {
     "data": {
      "text/plain": [
       "1478"
      ]
     },
     "execution_count": 39,
     "metadata": {},
     "output_type": "execute_result"
    }
   ],
   "source": [
    "data[(data['profit'] > 0)].profit.count()"
   ]
  },
  {
   "cell_type": "markdown",
   "metadata": {
    "colab_type": "text",
    "id": "xhpspA9KVp_A"
   },
   "source": [
    "# 9. Какой фильм оказался самым кассовым в 2008 году?"
   ]
  },
  {
   "cell_type": "code",
   "execution_count": 40,
   "metadata": {},
   "outputs": [],
   "source": [
    "answers['9'] = 'The Dark Knight (tt0468569)'\n",
    "# +"
   ]
  },
  {
   "cell_type": "code",
   "execution_count": 42,
   "metadata": {
    "colab": {},
    "colab_type": "code",
    "id": "MoUyQr9RVp_B"
   },
   "outputs": [
    {
     "data": {
      "text/plain": [
       "599    The Dark Knight\n",
       "Name: original_title, dtype: object"
      ]
     },
     "execution_count": 42,
     "metadata": {},
     "output_type": "execute_result"
    }
   ],
   "source": [
    "data[(data['profit'] == data[(data['release_year'] == 2008)].profit.max())].original_title"
   ]
  },
  {
   "cell_type": "markdown",
   "metadata": {
    "colab_type": "text",
    "id": "Zi4hDKidVp_F"
   },
   "source": [
    "# 10. Самый убыточный фильм за период с 2012 по 2014 г. (включительно)?\n"
   ]
  },
  {
   "cell_type": "code",
   "execution_count": 43,
   "metadata": {},
   "outputs": [],
   "source": [
    "answers['10'] = 'The Lone Ranger (tt1210819)'\n",
    "# +"
   ]
  },
  {
   "cell_type": "code",
   "execution_count": 44,
   "metadata": {
    "colab": {},
    "colab_type": "code",
    "id": "XqyRmufJVp_F"
   },
   "outputs": [
    {
     "data": {
      "text/plain": [
       "1245    The Lone Ranger\n",
       "Name: original_title, dtype: object"
      ]
     },
     "execution_count": 44,
     "metadata": {},
     "output_type": "execute_result"
    }
   ],
   "source": [
    "data.query(\n",
    "    'release_year in [2012, 2013, 2014]&profit==profit.min()').original_title"
   ]
  },
  {
   "cell_type": "markdown",
   "metadata": {
    "colab_type": "text",
    "id": "EA7Sa9dkVp_I"
   },
   "source": [
    "# 11. Какого жанра фильмов больше всего?"
   ]
  },
  {
   "cell_type": "code",
   "execution_count": 45,
   "metadata": {
    "colab": {},
    "colab_type": "code",
    "id": "zsJAwJ8QVp_J"
   },
   "outputs": [],
   "source": [
    "answers['11'] = 'Drama'\n",
    "# +"
   ]
  },
  {
   "cell_type": "code",
   "execution_count": 66,
   "metadata": {
    "colab": {},
    "colab_type": "code",
    "id": "otO3SbrSVp_N"
   },
   "outputs": [
    {
     "data": {
      "text/plain": [
       "Drama    782\n",
       "Name: genres_list, dtype: int64"
      ]
     },
     "execution_count": 66,
     "metadata": {},
     "output_type": "execute_result"
    }
   ],
   "source": [
    "data_style = data.explode('genres_list')\n",
    "data_style.genres_list.value_counts().head(1)"
   ]
  },
  {
   "cell_type": "markdown",
   "metadata": {
    "colab_type": "text",
    "id": "T9_bPWpkVp_Q"
   },
   "source": [
    "# 12. Фильмы какого жанра чаще всего становятся прибыльными? "
   ]
  },
  {
   "cell_type": "code",
   "execution_count": 47,
   "metadata": {},
   "outputs": [],
   "source": [
    "answers['12'] = 'Drama'\n",
    "# +"
   ]
  },
  {
   "cell_type": "code",
   "execution_count": 68,
   "metadata": {
    "colab": {},
    "colab_type": "code",
    "id": "Tmt8MaK1Vp_R"
   },
   "outputs": [
    {
     "data": {
      "text/plain": [
       "Drama    560\n",
       "Name: genres_list, dtype: int64"
      ]
     },
     "execution_count": 68,
     "metadata": {},
     "output_type": "execute_result"
    }
   ],
   "source": [
    "data_style[(data_style['profit'] > 0)].genres_list.value_counts().head(1)"
   ]
  },
  {
   "cell_type": "markdown",
   "metadata": {
    "colab_type": "text",
    "id": "0F23bgsDVp_U"
   },
   "source": [
    "# 13. У какого режиссера самые большие суммарные кассовые сбооры?"
   ]
  },
  {
   "cell_type": "code",
   "execution_count": 56,
   "metadata": {},
   "outputs": [],
   "source": [
    "answers['13'] = 'Peter Jackson'\n",
    "# +"
   ]
  },
  {
   "cell_type": "code",
   "execution_count": 57,
   "metadata": {
    "colab": {},
    "colab_type": "code",
    "id": "K6Z3J8ygVp_X"
   },
   "outputs": [
    {
     "data": {
      "text/plain": [
       "director\n",
       "Peter Jackson    6490593685\n",
       "Name: revenue, dtype: int64"
      ]
     },
     "execution_count": 57,
     "metadata": {},
     "output_type": "execute_result"
    }
   ],
   "source": [
    "question13 = data.groupby(['director'])['revenue'].sum()\n",
    "question13[(question13 == question13.max())]"
   ]
  },
  {
   "cell_type": "markdown",
   "metadata": {
    "colab_type": "text",
    "id": "PsYC9FgRVp_a"
   },
   "source": [
    "# 14. Какой режисер снял больше всего фильмов в стиле Action?"
   ]
  },
  {
   "cell_type": "code",
   "execution_count": 58,
   "metadata": {},
   "outputs": [],
   "source": [
    "answers['14'] = 'Robert Rodriguez'\n",
    "# +"
   ]
  },
  {
   "cell_type": "code",
   "execution_count": 69,
   "metadata": {
    "colab": {},
    "colab_type": "code",
    "id": "wd2M-wHeVp_b"
   },
   "outputs": [
    {
     "data": {
      "text/plain": [
       "Robert Rodriguez    9\n",
       "dtype: int64"
      ]
     },
     "execution_count": 69,
     "metadata": {},
     "output_type": "execute_result"
    }
   ],
   "source": [
    "action_directors = data[(data.genres.str.contains(\"Action\"))]\n",
    "'''new dataframe with Action movies only'''\n",
    "new_directors = action_directors['director'].str.split(\n",
    "    '|', expand=True).stack()\n",
    "'''extended dataframe with single director name in one line'''\n",
    "new_directors.value_counts().head(1)"
   ]
  },
  {
   "cell_type": "markdown",
   "metadata": {
    "colab_type": "text",
    "id": "PQ0KciD7Vp_f"
   },
   "source": [
    "# 15. Фильмы с каким актером принесли самые высокие кассовые сборы в 2012 году? "
   ]
  },
  {
   "cell_type": "code",
   "execution_count": 70,
   "metadata": {},
   "outputs": [],
   "source": [
    "answers['15'] = 'Chris Hemsworth'\n",
    "# +"
   ]
  },
  {
   "cell_type": "code",
   "execution_count": 71,
   "metadata": {
    "colab": {},
    "colab_type": "code",
    "id": "aga62oeKVp_g"
   },
   "outputs": [
    {
     "data": {
      "text/plain": [
       "cast\n",
       "Robert Downey Jr.|Chris Evans|Mark Ruffalo|Chris Hemsworth|Scarlett Johansson    1519557910\n",
       "Name: revenue, dtype: int64"
      ]
     },
     "execution_count": 71,
     "metadata": {},
     "output_type": "execute_result"
    }
   ],
   "source": [
    "question15 = data[(data['release_year'] == 2012)\n",
    "                  ].groupby(['cast'])['revenue'].sum()\n",
    "question15[(question15 == question15.max())]"
   ]
  },
  {
   "cell_type": "markdown",
   "metadata": {
    "colab_type": "text",
    "id": "mWHyyL7QVp_j"
   },
   "source": [
    "# 16. Какой актер снялся в большем количестве высокобюджетных фильмов?"
   ]
  },
  {
   "cell_type": "code",
   "execution_count": 72,
   "metadata": {},
   "outputs": [],
   "source": [
    "answers['16'] = 'Matt Damon'\n",
    "# +"
   ]
  },
  {
   "cell_type": "code",
   "execution_count": 73,
   "metadata": {
    "colab": {},
    "colab_type": "code",
    "id": "qQtmHKTFVp_k"
   },
   "outputs": [
    {
     "data": {
      "text/plain": [
       "Matt Damon    18\n",
       "Name: actor, dtype: int64"
      ]
     },
     "execution_count": 73,
     "metadata": {},
     "output_type": "execute_result"
    }
   ],
   "source": [
    "high_budget = data[(data['budget'] > data.budget.mean())]\n",
    "high_budget.groupby(['cast'])['revenue'].sum()\n",
    "high_budget_actors = high_budget['cast'].str.split('|', expand=True).stack()\n",
    "'''new dataframe with 1 actor name in 1 line, to calculate the high budget rate of each actor'''\n",
    "high_budget_actor = high_budget_actors.reset_index()\n",
    "high_budget_actor.columns = ['n1', 'n2', 'actor']\n",
    "high_budget_actor.actor.value_counts().head(1)"
   ]
  },
  {
   "cell_type": "markdown",
   "metadata": {
    "colab_type": "text",
    "id": "NIh6AaW5Vp_n"
   },
   "source": [
    "# 17. В фильмах какого жанра больше всего снимался Nicolas Cage? "
   ]
  },
  {
   "cell_type": "code",
   "execution_count": 74,
   "metadata": {
    "colab": {},
    "colab_type": "code",
    "id": "H74SJDIBVp_n"
   },
   "outputs": [],
   "source": [
    "answers['17'] = 'Action'\n",
    "# +"
   ]
  },
  {
   "cell_type": "code",
   "execution_count": 75,
   "metadata": {},
   "outputs": [
    {
     "data": {
      "text/plain": [
       "Action    17\n",
       "dtype: int64"
      ]
     },
     "execution_count": 75,
     "metadata": {},
     "output_type": "execute_result"
    }
   ],
   "source": [
    "nicolas_cage = data[(data.cast.str.contains(\"Nicolas Cage\"))]\n",
    "nicolas_cage_films = nicolas_cage['genres'].str.split('|', expand=True).stack()\n",
    "'''new dataframe with all Nicolas Cage films, separated by genre'''\n",
    "nicolas_cage_films.value_counts().head(1)"
   ]
  },
  {
   "cell_type": "markdown",
   "metadata": {
    "colab_type": "text",
    "id": "RqOmPRfWVp_q"
   },
   "source": [
    "# 18. Самый убыточный фильм от Paramount Pictures"
   ]
  },
  {
   "cell_type": "code",
   "execution_count": 76,
   "metadata": {},
   "outputs": [],
   "source": [
    "answers['18'] = 'K-19: The Widowmaker (tt0267626)'\n",
    "# +"
   ]
  },
  {
   "cell_type": "code",
   "execution_count": 77,
   "metadata": {
    "colab": {},
    "colab_type": "code",
    "id": "9E_B0Y96Vp_r"
   },
   "outputs": [
    {
     "data": {
      "text/plain": [
       "925    K-19: The Widowmaker\n",
       "Name: original_title, dtype: object"
      ]
     },
     "execution_count": 77,
     "metadata": {},
     "output_type": "execute_result"
    }
   ],
   "source": [
    "min_profit_movie_pp = data[(data.production_companies.str.contains(\n",
    "    'Paramount Pictures')) & (data['profit'] < 0)]\n",
    "min_profit_movie_pp[(min_profit_movie_pp['profit'] ==\n",
    "                     min_profit_movie_pp['profit'].min())].original_title"
   ]
  },
  {
   "cell_type": "markdown",
   "metadata": {
    "colab_type": "text",
    "id": "vS8Ur6ddVp_u"
   },
   "source": [
    "# 19. Какой год стал самым успешным по суммарным кассовым сборам?"
   ]
  },
  {
   "cell_type": "code",
   "execution_count": 78,
   "metadata": {},
   "outputs": [],
   "source": [
    "answers['19'] = '2015'\n",
    "# +"
   ]
  },
  {
   "cell_type": "code",
   "execution_count": 79,
   "metadata": {
    "colab": {},
    "colab_type": "code",
    "id": "Dnbt4GdIVp_v"
   },
   "outputs": [
    {
     "data": {
      "text/plain": [
       "release_year\n",
       "2015    25449202382\n",
       "Name: revenue, dtype: int64"
      ]
     },
     "execution_count": 79,
     "metadata": {},
     "output_type": "execute_result"
    }
   ],
   "source": [
    "data.groupby(['release_year'])['revenue'].sum(\n",
    ").sort_values(ascending=False).head(1)"
   ]
  },
  {
   "cell_type": "markdown",
   "metadata": {
    "colab_type": "text",
    "id": "JAzJh4QAVp_z"
   },
   "source": [
    "# 20. Какой самый прибыльный год для студии Warner Bros?"
   ]
  },
  {
   "cell_type": "code",
   "execution_count": 80,
   "metadata": {
    "colab": {},
    "colab_type": "code",
    "id": "wgVu02DEVp_0"
   },
   "outputs": [],
   "source": [
    "answers['20'] = '2014'\n",
    "# +"
   ]
  },
  {
   "cell_type": "code",
   "execution_count": 81,
   "metadata": {},
   "outputs": [
    {
     "data": {
      "text/plain": [
       "release_year\n",
       "2014    2336068186\n",
       "Name: profit, dtype: int64"
      ]
     },
     "execution_count": 81,
     "metadata": {},
     "output_type": "execute_result"
    }
   ],
   "source": [
    "war_bros_max_profit = data[(data.production_companies.str.contains(\n",
    "    'Warner Bros')) & (data['profit'] > 0)]\n",
    "war_bros_max_profit.groupby(['release_year'])[\n",
    "    'profit'].sum().sort_values(ascending=False).head(1)"
   ]
  },
  {
   "cell_type": "markdown",
   "metadata": {
    "colab_type": "text",
    "id": "8Im1S2HRVp_4"
   },
   "source": [
    "# 21. В каком месяце за все годы суммарно вышло больше всего фильмов?"
   ]
  },
  {
   "cell_type": "code",
   "execution_count": 82,
   "metadata": {},
   "outputs": [],
   "source": [
    "answers['21'] = 'Сентябрь'\n",
    "# +"
   ]
  },
  {
   "cell_type": "code",
   "execution_count": 83,
   "metadata": {
    "colab": {},
    "colab_type": "code",
    "id": "lev6TH7gVp_4"
   },
   "outputs": [
    {
     "data": {
      "text/plain": [
       "9    227\n",
       "Name: 0, dtype: int64"
      ]
     },
     "execution_count": 83,
     "metadata": {},
     "output_type": "execute_result"
    }
   ],
   "source": [
    "happy_month = data['release_date'].str.split('/', expand=True)\n",
    "happy_month[0].value_counts(ascending=False).head(1)"
   ]
  },
  {
   "cell_type": "markdown",
   "metadata": {
    "colab_type": "text",
    "id": "uAJsZ_NeVp_7"
   },
   "source": [
    "# 22. Сколько суммарно вышло фильмов летом? (за июнь, июль, август)"
   ]
  },
  {
   "cell_type": "code",
   "execution_count": 84,
   "metadata": {
    "colab": {},
    "colab_type": "code",
    "id": "Aa-hEREoVp_8"
   },
   "outputs": [],
   "source": [
    "answers['22'] = '450'\n",
    "# +"
   ]
  },
  {
   "cell_type": "code",
   "execution_count": 85,
   "metadata": {},
   "outputs": [
    {
     "data": {
      "text/plain": [
       "450"
      ]
     },
     "execution_count": 85,
     "metadata": {},
     "output_type": "execute_result"
    }
   ],
   "source": [
    "len(month_count.query('month in [\"6\", \"7\", \"8\"]'))\n",
    "'''Dataframe month_count was created at Preprocessing stage for this question'''"
   ]
  },
  {
   "cell_type": "markdown",
   "metadata": {
    "colab_type": "text",
    "id": "G94ppOY1VqAA"
   },
   "source": [
    "# 23. Для какого режиссера зима – самое продуктивное время года? "
   ]
  },
  {
   "cell_type": "code",
   "execution_count": 86,
   "metadata": {},
   "outputs": [],
   "source": [
    "answers['23'] = 'Peter Jackson'\n",
    "# +"
   ]
  },
  {
   "cell_type": "code",
   "execution_count": 87,
   "metadata": {
    "colab": {},
    "colab_type": "code",
    "id": "RhNTsamuVqAB"
   },
   "outputs": [
    {
     "data": {
      "text/plain": [
       "Peter Jackson    7\n",
       "dtype: int64"
      ]
     },
     "execution_count": 87,
     "metadata": {},
     "output_type": "execute_result"
    }
   ],
   "source": [
    "winter_films = data.query('release_month in [\"1\", \"2\", \"12\"]')\n",
    "winter_productive_director = winter_films['director'].str.split(\n",
    "    '|', expand=True).stack()\n",
    "winter_productive_director.value_counts().head(1)"
   ]
  },
  {
   "cell_type": "markdown",
   "metadata": {
    "colab_type": "text",
    "id": "RBo0JVjVVqAF"
   },
   "source": [
    "# 24. Какая студия дает самые длинные названия своим фильмам по количеству символов?"
   ]
  },
  {
   "cell_type": "code",
   "execution_count": 105,
   "metadata": {},
   "outputs": [],
   "source": [
    "answers['24'] = 'Four By Two Productions'\n",
    "# +"
   ]
  },
  {
   "cell_type": "code",
   "execution_count": 88,
   "metadata": {
    "colab": {},
    "colab_type": "code",
    "id": "QRGS8L0iVqAG"
   },
   "outputs": [
    {
     "data": {
      "text/plain": [
       "1448    Twentieth Century Fox Film Corporation|Four By...\n",
       "Name: production_companies, dtype: object"
      ]
     },
     "execution_count": 88,
     "metadata": {},
     "output_type": "execute_result"
    }
   ],
   "source": [
    "data[(data['len_original_title'] == data.len_original_title.max())\n",
    "     ].production_companies"
   ]
  },
  {
   "cell_type": "markdown",
   "metadata": {
    "colab_type": "text",
    "id": "9G0hbvR7VqAK"
   },
   "source": [
    "# 25. Описание фильмов какой студии в среднем самые длинные по количеству слов?"
   ]
  },
  {
   "cell_type": "code",
   "execution_count": 89,
   "metadata": {},
   "outputs": [],
   "source": [
    "answers['25'] = 'Midnight Picture Show'\n",
    "# +"
   ]
  },
  {
   "cell_type": "code",
   "execution_count": 96,
   "metadata": {
    "colab": {},
    "colab_type": "code",
    "id": "Ge2GsLNxVqAK"
   },
   "outputs": [
    {
     "data": {
      "text/plain": [
       "654  0           Lions Gate Films\n",
       "     1    Lakeshore Entertainment\n",
       "     2         GreeneStreet Films\n",
       "     3      Midnight Picture Show\n",
       "dtype: object"
      ]
     },
     "execution_count": 96,
     "metadata": {},
     "output_type": "execute_result"
    }
   ],
   "source": [
    "long_overview = data.groupby(['production_companies'])[\n",
    "    'description_word_number'].mean()\n",
    "long_overview_avg = long_overview.reset_index()\n",
    "question25 = long_overview_avg[(long_overview_avg['description_word_number']\n",
    "                                == long_overview_avg.description_word_number.max())].production_companies\n",
    "question25.str.split('|', expand=True).stack()"
   ]
  },
  {
   "cell_type": "markdown",
   "metadata": {
    "colab_type": "text",
    "id": "FJ1AFt90VqAP"
   },
   "source": [
    "# 26. Какие фильмы входят в 1 процент лучших по рейтингу? \n",
    "по vote_average"
   ]
  },
  {
   "cell_type": "code",
   "execution_count": 97,
   "metadata": {
    "colab": {},
    "colab_type": "code",
    "id": "8qmJVq4CVqAQ"
   },
   "outputs": [],
   "source": [
    "answers['26'] = 'Inside Out, The Dark Knight, 12 Years a Slave'\n",
    "# +"
   ]
  },
  {
   "cell_type": "code",
   "execution_count": 98,
   "metadata": {},
   "outputs": [
    {
     "data": {
      "text/plain": [
       "599                                   The Dark Knight\n",
       "118                                      Interstellar\n",
       "125                                The Imitation Game\n",
       "9                                          Inside Out\n",
       "34                                               Room\n",
       "1183                          The Wolf of Wall Street\n",
       "128                                         Gone Girl\n",
       "1191                                 12 Years a Slave\n",
       "119                           Guardians of the Galaxy\n",
       "1081    The Lord of the Rings: The Return of the King\n",
       "Name: original_title, dtype: object"
      ]
     },
     "execution_count": 98,
     "metadata": {},
     "output_type": "execute_result"
    }
   ],
   "source": [
    "data.sort_values(by=['vote_average'], inplace=True, ascending=False)\n",
    "data.original_title.head(10)"
   ]
  },
  {
   "cell_type": "markdown",
   "metadata": {
    "colab_type": "text",
    "id": "MdXsUXbCVqAV"
   },
   "source": [
    "# 27. Какие актеры чаще всего снимаются в одном фильме вместе?\n"
   ]
  },
  {
   "cell_type": "code",
   "execution_count": 99,
   "metadata": {},
   "outputs": [],
   "source": [
    "answers['27'] = 'Daniel Radcliffe & Rupert Grint'\n",
    "# +"
   ]
  },
  {
   "cell_type": "code",
   "execution_count": 102,
   "metadata": {
    "colab_type": "text",
    "id": "4ymnxEVoVqAW"
   },
   "outputs": [
    {
     "data": {
      "text/plain": [
       "[(('Daniel Radcliffe', 'Rupert Grint'), 8),\n",
       " (('Daniel Radcliffe', 'Emma Watson'), 8),\n",
       " (('Rupert Grint', 'Emma Watson'), 7),\n",
       " (('Johnny Depp', 'Helena Bonham Carter'), 6),\n",
       " (('Ben Stiller', 'Owen Wilson'), 6),\n",
       " (('Hugh Jackman', 'Ian McKellen'), 5),\n",
       " (('Adam Sandler', 'Kevin James'), 5),\n",
       " (('Kristen Stewart', 'Robert Pattinson'), 5),\n",
       " (('Kristen Stewart', 'Taylor Lautner'), 5),\n",
       " (('Robert Pattinson', 'Taylor Lautner'), 5),\n",
       " (('Christian Bale', 'Michael Caine'), 4),\n",
       " (('Jennifer Lawrence', 'Josh Hutcherson'), 4),\n",
       " (('Jennifer Lawrence', 'Liam Hemsworth'), 4),\n",
       " (('Jennifer Lawrence', 'Woody Harrelson'), 4),\n",
       " (('Josh Hutcherson', 'Liam Hemsworth'), 4),\n",
       " (('Josh Hutcherson', 'Woody Harrelson'), 4),\n",
       " (('Liam Hemsworth', 'Woody Harrelson'), 4),\n",
       " (('Vin Diesel', 'Jordana Brewster'), 4),\n",
       " (('Paul Walker', 'Jordana Brewster'), 4),\n",
       " (('Mike Myers', 'Eddie Murphy'), 4),\n",
       " (('Mike Myers', 'Cameron Diaz'), 4),\n",
       " (('Eddie Murphy', 'Cameron Diaz'), 4),\n",
       " (('George Clooney', 'Brad Pitt'), 4),\n",
       " (('Hugh Jackman', 'Halle Berry'), 4),\n",
       " (('Kristen Stewart', 'Peter Facinelli'), 4),\n",
       " (('Robert Pattinson', 'Peter Facinelli'), 4),\n",
       " (('Taylor Lautner', 'Peter Facinelli'), 4),\n",
       " (('Tobin Bell', 'Costas Mandylor'), 4),\n",
       " (('Tobin Bell', 'Betsy Russell'), 4),\n",
       " (('Costas Mandylor', 'Betsy Russell'), 4),\n",
       " (('Christian Bale', 'Gary Oldman'), 3),\n",
       " (('Michael Caine', 'Gary Oldman'), 3),\n",
       " (('Elijah Wood', 'Ian McKellen'), 3),\n",
       " (('Elijah Wood', 'Viggo Mortensen'), 3),\n",
       " (('Elijah Wood', 'Liv Tyler'), 3),\n",
       " (('Elijah Wood', 'Orlando Bloom'), 3),\n",
       " (('Ian McKellen', 'Viggo Mortensen'), 3),\n",
       " (('Ian McKellen', 'Liv Tyler'), 3),\n",
       " (('Ian McKellen', 'Orlando Bloom'), 3),\n",
       " (('Viggo Mortensen', 'Liv Tyler'), 3),\n",
       " (('Viggo Mortensen', 'Orlando Bloom'), 3),\n",
       " (('Liv Tyler', 'Orlando Bloom'), 3),\n",
       " (('Chris Evans', 'Scarlett Johansson'), 3),\n",
       " (('Patrick Stewart', 'Ian McKellen'), 3),\n",
       " (('Martin Freeman', 'Richard Armitage'), 3),\n",
       " (('Ian McKellen', 'Richard Armitage'), 3),\n",
       " (('Russell Crowe', 'Jennifer Connelly'), 3),\n",
       " (('Jennifer Lawrence', 'Elizabeth Banks'), 3),\n",
       " (('Josh Hutcherson', 'Elizabeth Banks'), 3),\n",
       " (('Liam Hemsworth', 'Elizabeth Banks'), 3),\n",
       " (('Woody Harrelson', 'Elizabeth Banks'), 3),\n",
       " (('Robert Downey Jr.', 'Mark Ruffalo'), 3),\n",
       " (('Robert Downey Jr.', 'Scarlett Johansson'), 3),\n",
       " (('Daniel Radcliffe', 'Ralph Fiennes'), 3),\n",
       " (('Emma Watson', 'Ralph Fiennes'), 3),\n",
       " (('Rupert Grint', 'Ralph Fiennes'), 3),\n",
       " (('Johnny Depp', 'Geoffrey Rush'), 3),\n",
       " (('Johnny Depp', 'Orlando Bloom'), 3),\n",
       " (('Johnny Depp', 'Keira Knightley'), 3),\n",
       " (('Orlando Bloom', 'Keira Knightley'), 3),\n",
       " (('Robert Downey Jr.', 'Gwyneth Paltrow'), 3),\n",
       " (('Vin Diesel', 'Paul Walker'), 3),\n",
       " (('Vin Diesel', 'Michelle Rodriguez'), 3),\n",
       " (('Vin Diesel', 'Dwayne Johnson'), 3),\n",
       " (('Paul Walker', 'Michelle Rodriguez'), 3),\n",
       " (('Paul Walker', 'Dwayne Johnson'), 3),\n",
       " (('Liam Neeson', 'Famke Janssen'), 3),\n",
       " (('Liam Neeson', 'Maggie Grace'), 3),\n",
       " (('Denzel Washington', 'Kimberly Elise'), 3),\n",
       " (('Bradley Cooper', 'Ed Helms'), 3),\n",
       " (('Bradley Cooper', 'Zach Galifianakis'), 3),\n",
       " (('Bradley Cooper', 'Justin Bartha'), 3),\n",
       " (('Ed Helms', 'Zach Galifianakis'), 3),\n",
       " (('Ed Helms', 'Justin Bartha'), 3),\n",
       " (('Zach Galifianakis', 'Justin Bartha'), 3),\n",
       " (('Tom Cruise', 'Ving Rhames'), 3),\n",
       " (('Daniel Craig', 'Judi Dench'), 3),\n",
       " (('Hayden Christensen', 'Samuel L. Jackson'), 3),\n",
       " (('George Clooney', 'Matt Damon'), 3),\n",
       " (('Brad Pitt', 'Julia Roberts'), 3),\n",
       " (('Ray Romano', 'Denis Leary'), 3),\n",
       " (('John Leguizamo', 'Denis Leary'), 3),\n",
       " (('Johnny Depp', 'Bill Nighy'), 3),\n",
       " (('Adam Sandler', 'Steve Buscemi'), 3),\n",
       " (('Jack Black', 'Angelina Jolie'), 3),\n",
       " (('Sylvester Stallone', 'Arnold Schwarzenegger'), 3),\n",
       " (('Patrick Stewart', 'Famke Janssen'), 3),\n",
       " (('Hugh Jackman', 'Famke Janssen'), 3),\n",
       " (('Ian McKellen', 'Famke Janssen'), 3),\n",
       " (('Halle Berry', 'Famke Janssen'), 3),\n",
       " (('Shia LaBeouf', 'Josh Duhamel'), 3),\n",
       " (('Tobey Maguire', 'Kirsten Dunst'), 3),\n",
       " (('Tobey Maguire', 'James Franco'), 3),\n",
       " (('Kirsten Dunst', 'James Franco'), 3),\n",
       " (('Ice Cube', 'Mike Epps'), 3),\n",
       " (('Jason Statham', 'FranÃ§ois BerlÃ©and'), 3),\n",
       " (('Skandar Keynes', 'Georgie Henley'), 3),\n",
       " (('Mike Myers', 'Julie Andrews'), 3),\n",
       " (('Mike Myers', 'Antonio Banderas'), 3),\n",
       " (('Eddie Murphy', 'Julie Andrews'), 3),\n",
       " (('Eddie Murphy', 'Antonio Banderas'), 3),\n",
       " (('Cameron Diaz', 'Julie Andrews'), 3),\n",
       " (('Cameron Diaz', 'Antonio Banderas'), 3),\n",
       " (('Ron Perlman', 'John Hurt'), 3),\n",
       " (('John Cho', 'Kal Penn'), 3),\n",
       " (('Mark Wahlberg', 'Giovanni Ribisi'), 3),\n",
       " (('Ben Stiller', 'Chris Rock'), 3),\n",
       " (('Ben Stiller', 'David Schwimmer'), 3),\n",
       " (('Paul Rudd', 'Jason Segel'), 3),\n",
       " (('Owen Wilson', 'Vince Vaughn'), 3),\n",
       " (('Ben Stiller', 'Robin Williams'), 3),\n",
       " (('Steve Carell', 'Paul Rudd'), 3),\n",
       " (('Sylvester Stallone', 'Jason Statham'), 3),\n",
       " (('Bradley Cooper', 'Ken Jeong'), 3),\n",
       " (('Bruce Willis', 'Kevin Pollak'), 3),\n",
       " (('Jason Biggs', 'Seann William Scott'), 3),\n",
       " (('Jason Biggs', 'Thomas Ian Nicholas'), 3),\n",
       " (('Johnny Depp', 'Paul Bettany'), 3),\n",
       " (('Kristen Stewart', 'Ashley Greene'), 3),\n",
       " (('Robert Pattinson', 'Ashley Greene'), 3),\n",
       " (('Taylor Lautner', 'Ashley Greene'), 3),\n",
       " (('Jason Lee', 'Justin Long'), 3),\n",
       " (('David Cross', 'Justin Long'), 3),\n",
       " (('Alexa PenaVega', 'Daryl Sabara'), 3),\n",
       " (('Antonio Banderas', 'Carla Gugino'), 3),\n",
       " (('Tim Allen', 'Spencer Breslin'), 3),\n",
       " (('Leonardo DiCaprio', 'Tom Hardy'), 2),\n",
       " (('Adrien Brody', 'Thomas Kretschmann'), 2),\n",
       " (('Joaquin Phoenix', 'Amy Adams'), 2),\n",
       " (('Shailene Woodley', 'Ansel Elgort'), 2),\n",
       " (('Matthew McConaughey', 'Steve Zahn'), 2),\n",
       " (('Jay Baruchel', 'Gerard Butler'), 2),\n",
       " (('Jay Baruchel', 'Jonah Hill'), 2),\n",
       " (('Gerard Butler', 'Jonah Hill'), 2),\n",
       " (('Leonardo DiCaprio', 'Martin Sheen'), 2),\n",
       " (('Jamie Foxx', 'Kerry Washington'), 2),\n",
       " (('Chris Evans', 'Sebastian Stan'), 2),\n",
       " (('Scarlett Johansson', 'Samuel L. Jackson'), 2),\n",
       " (('Tom Hanks', 'Amy Adams'), 2),\n",
       " (('Hugh Jackman', 'Patrick Stewart'), 2),\n",
       " (('James McAvoy', 'Patrick Stewart'), 2),\n",
       " (('James McAvoy', 'Michael Fassbender'), 2),\n",
       " (('Uma Thurman', 'Daryl Hannah'), 2),\n",
       " (('Uma Thurman', 'David Carradine'), 2),\n",
       " (('Martin Freeman', 'Ian McKellen'), 2),\n",
       " (('Martin Freeman', 'Ken Stott'), 2),\n",
       " (('Martin Freeman', 'Graham McTavish'), 2),\n",
       " (('Ian McKellen', 'Ken Stott'), 2),\n",
       " (('Ian McKellen', 'Graham McTavish'), 2),\n",
       " (('Richard Armitage', 'Ken Stott'), 2),\n",
       " (('Richard Armitage', 'Graham McTavish'), 2),\n",
       " (('Ken Stott', 'Graham McTavish'), 2),\n",
       " (('Tommy Lee Jones', 'Josh Brolin'), 2),\n",
       " (('Bradley Cooper', 'Sienna Miller'), 2),\n",
       " (('George Clooney', 'Bill Murray'), 2),\n",
       " (('Russell Crowe', 'Paul Bettany'), 2),\n",
       " (('Jennifer Connelly', 'Christopher Plummer'), 2),\n",
       " (('Mark Wahlberg', 'Ben Foster'), 2),\n",
       " (('Chris Pine', 'Zachary Quinto'), 2),\n",
       " (('Helena Bonham Carter', 'Timothy Spall'), 2),\n",
       " (('Robert Downey Jr.', 'Chris Hemsworth'), 2),\n",
       " (('Robert Downey Jr.', 'Chris Evans'), 2),\n",
       " (('Chris Hemsworth', 'Scarlett Johansson'), 2),\n",
       " (('Mark Ruffalo', 'Scarlett Johansson'), 2),\n",
       " (('Christian Bale', 'Melissa Leo'), 2),\n",
       " (('Steve Carell', 'Ryan Gosling'), 2),\n",
       " (('Jesse Eisenberg', 'Woody Harrelson'), 2),\n",
       " (('John Goodman', 'Steve Buscemi'), 2),\n",
       " (('Billy Crystal', 'Steve Buscemi'), 2),\n",
       " (('Daniel Radcliffe', 'Michael Gambon'), 2),\n",
       " (('Rupert Grint', 'Michael Gambon'), 2),\n",
       " (('Emma Watson', 'Michael Gambon'), 2),\n",
       " (('Johnny Depp', 'PenÃ©lope Cruz'), 2),\n",
       " (('Johnny Depp', 'Jack Davenport'), 2),\n",
       " (('Orlando Bloom', 'Jack Davenport'), 2),\n",
       " (('Keira Knightley', 'Jack Davenport'), 2),\n",
       " (('Ewan McGregor', 'Jim Broadbent'), 2),\n",
       " (('Matt Damon', 'Julia Stiles'), 2),\n",
       " (('Jake Gyllenhaal', 'Anne Hathaway'), 2),\n",
       " (('George Clooney', 'John Goodman'), 2),\n",
       " (('Anna Kendrick', 'Skylar Astin'), 2),\n",
       " (('Anna Kendrick', 'Brittany Snow'), 2),\n",
       " (('Anna Kendrick', 'Rebel Wilson'), 2),\n",
       " (('Meryl Streep', 'Chris Cooper'), 2),\n",
       " (('Johnny Depp', 'Freddie Highmore'), 2),\n",
       " (('Christian Bale', 'Amy Adams'), 2),\n",
       " (('Steve Carell', 'Russell Brand'), 2),\n",
       " (('Steve Carell', 'Will Arnett'), 2),\n",
       " (('Jason Segel', 'Russell Brand'), 2),\n",
       " (('Matt Damon', 'Franka Potente'), 2),\n",
       " (('Matt Damon', 'Brian Cox'), 2),\n",
       " (('Franka Potente', 'Brian Cox'), 2),\n",
       " (('Tom Cruise', 'Jeremy Renner'), 2),\n",
       " (('Tom Cruise', 'Simon Pegg'), 2),\n",
       " (('Jeremy Renner', 'Simon Pegg'), 2),\n",
       " (('Ben Whishaw', 'Michael Gambon'), 2),\n",
       " (('Sean Penn', 'Josh Brolin'), 2),\n",
       " (('Christian Bale', 'Willem Dafoe'), 2),\n",
       " (('Jude Law', 'Rachel Weisz'), 2),\n",
       " (('Paul Walker', 'Tyrese Gibson'), 2),\n",
       " (('Dwayne Johnson', 'Jordana Brewster'), 2),\n",
       " (('Angelina Jolie', 'John Malkovich'), 2),\n",
       " (('Jessica Alba', 'Rosario Dawson'), 2),\n",
       " (('Matt Damon', 'Chris Cooper'), 2),\n",
       " (('Daniel Craig', 'Eva Green'), 2),\n",
       " (('Daniel Craig', 'Jeffrey Wright'), 2),\n",
       " (('Joaquin Phoenix', 'Reese Witherspoon'), 2),\n",
       " (('Joaquin Phoenix', 'Robert Patrick'), 2),\n",
       " (('Ewan McGregor', 'Natalie Portman'), 2),\n",
       " (('Ewan McGregor', 'Hayden Christensen'), 2),\n",
       " (('Ewan McGregor', 'Ian McDiarmid'), 2),\n",
       " (('Ewan McGregor', 'Samuel L. Jackson'), 2),\n",
       " (('Natalie Portman', 'Hayden Christensen'), 2),\n",
       " (('Natalie Portman', 'Ian McDiarmid'), 2),\n",
       " (('Natalie Portman', 'Samuel L. Jackson'), 2),\n",
       " (('Hayden Christensen', 'Ian McDiarmid'), 2),\n",
       " (('Ian McDiarmid', 'Samuel L. Jackson'), 2),\n",
       " (('Meryl Streep', 'Emily Blunt'), 2),\n",
       " (('Meryl Streep', 'Stanley Tucci'), 2),\n",
       " (('Jeff Bridges', 'Kevin Spacey'), 2),\n",
       " (('Hugh Jackman', 'Amanda Seyfried'), 2),\n",
       " ((\"Dylan O'Brien\", 'Kaya Scodelario'), 2),\n",
       " (('Naomi Watts', 'Armin Mueller-Stahl'), 2),\n",
       " (('Viggo Mortensen', 'Vincent Cassel'), 2),\n",
       " (('Michael Moore', 'George W. Bush'), 2),\n",
       " (('Bradley Cooper', 'Robert De Niro'), 2),\n",
       " (('Jonah Hill', 'Seth Rogen'), 2),\n",
       " (('Lena Headey', 'David Wenham'), 2),\n",
       " (('Robert De Niro', 'Charlize Theron'), 2),\n",
       " (('George Clooney', 'Andy GarcÃ\\xada'), 2),\n",
       " (('George Clooney', 'Julia Roberts'), 2),\n",
       " (('Brad Pitt', 'Matt Damon'), 2),\n",
       " (('Brad Pitt', 'Andy GarcÃ\\xada'), 2),\n",
       " (('John Cusack', 'Amanda Peet'), 2),\n",
       " (('Jonah Hill', 'Dave Franco'), 2),\n",
       " (('Channing Tatum', 'Dave Franco'), 2),\n",
       " (('Brad Pitt', 'Jonah Hill'), 2),\n",
       " (('Antonio Banderas', 'Salma Hayek'), 2),\n",
       " (('Ryan Gosling', 'Emma Stone'), 2),\n",
       " (('Ryan Gosling', 'Marisa Tomei'), 2),\n",
       " (('Matthew McConaughey', 'William H. Macy'), 2),\n",
       " (('Robert Downey Jr.', 'Jude Law'), 2),\n",
       " (('Ray Romano', 'John Leguizamo'), 2),\n",
       " (('Bradley Cooper', 'Jennifer Lawrence'), 2),\n",
       " (('Robert Downey Jr.', 'Don Cheadle'), 2),\n",
       " (('Gwyneth Paltrow', 'Don Cheadle'), 2),\n",
       " (('Guy Pearce', 'Ben Kingsley'), 2),\n",
       " (('James Franco', 'Lizzy Caplan'), 2),\n",
       " (('Cate Blanchett', 'Alec Baldwin'), 2),\n",
       " (('Rose Byrne', 'Bobby Cannavale'), 2),\n",
       " (('Jennifer Garner', 'Jason Bateman'), 2),\n",
       " (('James McAvoy', 'Julie Walters'), 2),\n",
       " (('James McAvoy', 'Maggie Smith'), 2),\n",
       " (('Shailene Woodley', 'Theo James'), 2),\n",
       " (('Shailene Woodley', 'Kate Winslet'), 2),\n",
       " (('Shailene Woodley', 'Miles Teller'), 2),\n",
       " (('Theo James', 'Kate Winslet'), 2),\n",
       " (('Theo James', 'Miles Teller'), 2),\n",
       " (('Kate Winslet', 'Miles Teller'), 2),\n",
       " (('Philip Seymour Hoffman', 'Amy Adams'), 2),\n",
       " (('Orlando Bloom', 'Bill Nighy'), 2),\n",
       " (('Keira Knightley', 'Bill Nighy'), 2),\n",
       " (('Morgan Freeman', 'Ashley Judd'), 2),\n",
       " (('Morgan Freeman', 'Nathan Gamble'), 2),\n",
       " (('Morgan Freeman', 'Harry Connick Jr.'), 2),\n",
       " (('Ashley Judd', 'Nathan Gamble'), 2),\n",
       " (('Ashley Judd', 'Harry Connick Jr.'), 2),\n",
       " (('Chris Hemsworth', 'Natalie Portman'), 2),\n",
       " (('Chris Hemsworth', 'Tom Hiddleston'), 2),\n",
       " (('Chris Hemsworth', 'Anthony Hopkins'), 2),\n",
       " (('Natalie Portman', 'Tom Hiddleston'), 2),\n",
       " (('Natalie Portman', 'Anthony Hopkins'), 2),\n",
       " (('Tom Hiddleston', 'Anthony Hopkins'), 2),\n",
       " (('Zac Efron', 'Dave Franco'), 2),\n",
       " (('Russell Crowe', 'Logan Lerman'), 2),\n",
       " (('Daniel Craig', 'Ralph Fiennes'), 2),\n",
       " (('Adam Sandler', 'Andy Samberg'), 2),\n",
       " (('Adam Sandler', 'Selena Gomez'), 2),\n",
       " (('Jim Cummings', 'Bud Luckey'), 2),\n",
       " (('Jim Cummings', 'Craig Ferguson'), 2),\n",
       " (('Asa Butterfield', 'Ben Kingsley'), 2),\n",
       " (('Joseph Gordon-Levitt', 'Seth Rogen'), 2),\n",
       " (('Jack Black', 'Dustin Hoffman'), 2),\n",
       " (('Jack Black', 'Jackie Chan'), 2),\n",
       " (('Dustin Hoffman', 'Jackie Chan'), 2),\n",
       " (('Angelina Jolie', 'Jackie Chan'), 2),\n",
       " (('Adam Sandler', 'David Spade'), 2),\n",
       " (('Bruce Willis', 'Robin Wright'), 2),\n",
       " (('Philip Seymour Hoffman', 'Marisa Tomei'), 2),\n",
       " (('Will Ferrell', 'Christina Applegate'), 2),\n",
       " (('Will Ferrell', 'Paul Rudd'), 2),\n",
       " (('Will Ferrell', 'David Koechner'), 2),\n",
       " (('Will Ferrell', 'Steve Carell'), 2),\n",
       " (('Christina Applegate', 'David Koechner'), 2),\n",
       " (('Paul Rudd', 'David Koechner'), 2),\n",
       " (('Patrick Stewart', 'Hugh Jackman'), 2),\n",
       " (('Patrick Stewart', 'Halle Berry'), 2),\n",
       " (('Ian McKellen', 'Halle Berry'), 2),\n",
       " (('Javier Bardem', 'PenÃ©lope Cruz'), 2),\n",
       " (('Kate Winslet', 'Jude Law'), 2),\n",
       " (('Ryan Guzman', 'Stephen Boss'), 2),\n",
       " (('Charlize Theron', 'Guy Pearce'), 2),\n",
       " (('Shia LaBeouf', 'Megan Fox'), 2),\n",
       " (('Shia LaBeouf', 'Tyrese Gibson'), 2),\n",
       " (('Josh Duhamel', 'Tyrese Gibson'), 2),\n",
       " (('Megan Fox', 'Tyrese Gibson'), 2),\n",
       " (('Michael Caine', 'Emily Mortimer'), 2),\n",
       " (('Andrew Garfield', 'Emma Stone'), 2),\n",
       " (('Michael Ealy', 'Regina Hall'), 2),\n",
       " (('Will Ferrell', 'John C. Reilly'), 2),\n",
       " (('Will Ferrell', 'Mary Steenburgen'), 2),\n",
       " (('Seth Rogen', 'Danny McBride'), 2),\n",
       " (('James Franco', 'Danny McBride'), 2),\n",
       " (('Mark Wahlberg', 'Stanley Tucci'), 2),\n",
       " (('Susan Sarandon', 'Stanley Tucci'), 2),\n",
       " (('Keanu Reeves', 'Carrie-Anne Moss'), 2),\n",
       " (('Keanu Reeves', 'Laurence Fishburne'), 2),\n",
       " (('Keanu Reeves', 'Hugo Weaving'), 2),\n",
       " (('Carrie-Anne Moss', 'Hugo Weaving'), 2),\n",
       " (('Laurence Fishburne', 'Hugo Weaving'), 2),\n",
       " (('Tom Kenny', 'Clancy Brown'), 2),\n",
       " (('Tom Kenny', 'Rodger Bumpass'), 2),\n",
       " (('Tom Kenny', 'Bill Fagerbakke'), 2),\n",
       " (('Tom Kenny', 'Carolyn Lawrence'), 2),\n",
       " (('Clancy Brown', 'Carolyn Lawrence'), 2),\n",
       " (('Rodger Bumpass', 'Carolyn Lawrence'), 2),\n",
       " (('Bill Fagerbakke', 'Carolyn Lawrence'), 2),\n",
       " (('Ice Cube', 'John Witherspoon'), 2),\n",
       " (('Ice Cube', 'Don Curry'), 2),\n",
       " (('Mike Epps', 'John Witherspoon'), 2),\n",
       " (('Mike Epps', 'Don Curry'), 2),\n",
       " (('John Witherspoon', 'Don Curry'), 2),\n",
       " (('Denzel Washington', 'Paula Patton'), 2),\n",
       " (('Matt Damon', 'Scott Bakula'), 2),\n",
       " (('Robert De Niro', 'Edward Norton'), 2),\n",
       " (('Paul Walker', 'Vin Diesel'), 2),\n",
       " (('Colin Firth', 'Stellan SkarsgÃ¥rd'), 2),\n",
       " (('Mike Epps', 'Anna Maria Horsford'), 2),\n",
       " (('Johnny Depp', 'Giovanni Ribisi'), 2),\n",
       " (('Billy Crudup', 'Marion Cotillard'), 2),\n",
       " (('Jesse Eisenberg', 'Anne Hathaway'), 2),\n",
       " (('Jesse Eisenberg', 'Leslie Mann'), 2),\n",
       " (('Anne Hathaway', 'Leslie Mann'), 2),\n",
       " (('Kristen Wiig', 'Maya Rudolph'), 2),\n",
       " (('Jason Statham', 'Amy Smart'), 2),\n",
       " (('Jason Statham', 'Efren Ramirez'), 2),\n",
       " (('Jason Statham', 'Dwight Yoakam'), 2),\n",
       " (('Amy Smart', 'Efren Ramirez'), 2),\n",
       " (('Amy Smart', 'Dwight Yoakam'), 2),\n",
       " (('Cate Blanchett', 'Tom Hollander'), 2),\n",
       " (('Ben Stiller', 'Robert De Niro'), 2),\n",
       " (('Ben Stiller', 'Teri Polo'), 2),\n",
       " (('Robert De Niro', 'Owen Wilson'), 2),\n",
       " (('Robert Downey Jr.', 'Jamie Foxx'), 2),\n",
       " (('Russell Crowe', 'Mark Strong'), 2),\n",
       " (('William Moseley', 'Anna Popplewell'), 2),\n",
       " (('William Moseley', 'Skandar Keynes'), 2),\n",
       " (('William Moseley', 'Georgie Henley'), 2),\n",
       " (('Anna Popplewell', 'Skandar Keynes'), 2),\n",
       " (('Anna Popplewell', 'Georgie Henley'), 2),\n",
       " (('Channing Tatum', 'Richard Jenkins'), 2),\n",
       " (('Kate Beckinsale', 'Scott Speedman'), 2),\n",
       " (('Kate Beckinsale', 'Shane Brolly'), 2),\n",
       " (('Kate Beckinsale', 'Bill Nighy'), 2),\n",
       " (('Scott Speedman', 'Shane Brolly'), 2),\n",
       " (('Michael Sheen', 'Shane Brolly'), 2),\n",
       " (('Chris Tucker', 'Jackie Chan'), 2),\n",
       " (('Heath Ledger', 'Shannyn Sossamon'), 2),\n",
       " (('RenÃ©e Zellweger', 'Colin Firth'), 2),\n",
       " (('RenÃ©e Zellweger', 'Hugh Grant'), 2),\n",
       " (('RenÃ©e Zellweger', 'Gemma Jones'), 2),\n",
       " (('RenÃ©e Zellweger', 'Jim Broadbent'), 2),\n",
       " (('Colin Firth', 'Gemma Jones'), 2),\n",
       " (('Colin Firth', 'Jim Broadbent'), 2),\n",
       " (('Hugh Grant', 'Gemma Jones'), 2),\n",
       " (('Hugh Grant', 'Jim Broadbent'), 2),\n",
       " (('Channing Tatum', 'Sienna Miller'), 2),\n",
       " (('Julie Andrews', 'Antonio Banderas'), 2),\n",
       " (('Ron Perlman', 'Selma Blair'), 2),\n",
       " (('Ron Perlman', 'Jeffrey Tambor'), 2),\n",
       " (('Selma Blair', 'John Hurt'), 2),\n",
       " (('Selma Blair', 'Jeffrey Tambor'), 2),\n",
       " (('John Cho', 'Neil Patrick Harris'), 2),\n",
       " (('Kal Penn', 'Neil Patrick Harris'), 2),\n",
       " (('Jason Bateman', 'Kristen Wiig'), 2),\n",
       " (('Nicolas Cage', 'Diane Kruger'), 2),\n",
       " (('Nicolas Cage', 'Jon Voight'), 2),\n",
       " (('Ray Romano', 'Seann William Scott'), 2),\n",
       " (('John Leguizamo', 'Seann William Scott'), 2),\n",
       " (('Denis Leary', 'Seann William Scott'), 2),\n",
       " (('Jason Bateman', 'Charlie Day'), 2),\n",
       " (('Jason Bateman', 'Jason Sudeikis'), 2),\n",
       " (('George Clooney', 'Catherine Zeta-Jones'), 2),\n",
       " (('Bill Hader', 'Anna Faris'), 2),\n",
       " (('Bill Hader', 'James Caan'), 2),\n",
       " (('Anna Faris', 'James Caan'), 2),\n",
       " (('Ian McKellen', 'Jean Reno'), 2),\n",
       " (('Bruce Willis', 'Cole Hauser'), 2),\n",
       " (('Mark Wahlberg', 'Mila Kunis'), 2),\n",
       " (('Mark Wahlberg', 'Seth MacFarlane'), 2),\n",
       " (('Seth MacFarlane', 'Giovanni Ribisi'), 2),\n",
       " (('Johnny Knoxville', 'Bam Margera'), 2),\n",
       " (('Johnny Knoxville', 'Steve-O'), 2),\n",
       " (('Johnny Knoxville', 'Chris Pontius'), 2),\n",
       " (('Bam Margera', 'Steve-O'), 2),\n",
       " (('Bam Margera', 'Chris Pontius'), 2),\n",
       " (('Steve-O', 'Chris Pontius'), 2),\n",
       " (('Zachary Gordon', 'Rachael Harris'), 2),\n",
       " (('Zachary Gordon', 'Robert Capron'), 2),\n",
       " (('Zachary Gordon', 'Steve Zahn'), 2),\n",
       " (('Devon Bostick', 'Rachael Harris'), 2),\n",
       " (('Devon Bostick', 'Steve Zahn'), 2),\n",
       " (('Robert Capron', 'Steve Zahn'), 2),\n",
       " (('Ben Stiller', 'Jada Pinkett Smith'), 2),\n",
       " (('Ben Stiller', 'Sacha Baron Cohen'), 2),\n",
       " (('David Schwimmer', 'Chris Rock'), 2),\n",
       " (('Zac Efron', 'Imogen Poots'), 2),\n",
       " (('Tom Hanks', 'Julia Roberts'), 2),\n",
       " (('Milla Jovovich', 'Michelle Rodriguez'), 2),\n",
       " (('Hugh Jackman', 'David Wenham'), 2),\n",
       " (('Paul Rudd', 'Elizabeth Banks'), 2),\n",
       " (('George Clooney', 'Tilda Swinton'), 2),\n",
       " (('George Clooney', 'Richard Jenkins'), 2),\n",
       " (('Anne Hathaway', 'Julie Andrews'), 2),\n",
       " (('Anne Hathaway', 'Heather Matarazzo'), 2),\n",
       " (('Anne Hathaway', 'HÃ©ctor Elizondo'), 2),\n",
       " (('Julie Andrews', 'Heather Matarazzo'), 2),\n",
       " (('Julie Andrews', 'HÃ©ctor Elizondo'), 2),\n",
       " (('Tom Cruise', 'Cameron Diaz'), 2),\n",
       " (('Dwayne Johnson', 'Seann William Scott'), 2),\n",
       " (('Matt Damon', 'Greg Kinnear'), 2),\n",
       " (('Anthony Hopkins', 'Hope Davis'), 2),\n",
       " (('Liam Neeson', 'Boyd Holbrook'), 2),\n",
       " (('Tyler Perry', 'Jill Scott'), 2),\n",
       " (('Tyler Perry', 'Janet Jackson'), 2),\n",
       " (('Tyler Perry', 'Malik Yoba'), 2),\n",
       " (('Jill Scott', 'Malik Yoba'), 2),\n",
       " (('Janet Jackson', 'Malik Yoba'), 2),\n",
       " (('Ali Larter', 'Tony Todd'), 2),\n",
       " (('Ice Cube', 'Cedric the Entertainer'), 2),\n",
       " (('Ice Cube', 'Sean Patrick Thomas'), 2),\n",
       " (('Cedric the Entertainer', 'Sean Patrick Thomas'), 2),\n",
       " (('Vin Diesel', 'Karl Urban'), 2),\n",
       " (('Danny Trejo', 'Michelle Rodriguez'), 2),\n",
       " (('James Franco', 'Seth Rogen'), 2),\n",
       " (('Steve Carell', 'Seth Rogen'), 2),\n",
       " (('Adam Sandler', 'Chris Rock'), 2),\n",
       " (('Danny Huston', 'Lynn Collins'), 2),\n",
       " (('Clive Owen', 'Paul Giamatti'), 2),\n",
       " (('Jason Statham', 'Arnold Schwarzenegger'), 2),\n",
       " (('Jessica Alba', 'Josh Brolin'), 2),\n",
       " (('Seth Rogen', 'Lizzy Caplan'), 2),\n",
       " (('Adam Sandler', 'Salma Hayek'), 2),\n",
       " (('Will Ferrell', 'Mark Wahlberg'), 2),\n",
       " (('Mark Wahlberg', 'Dwayne Johnson'), 2),\n",
       " (('Maggie Grace', 'Famke Janssen'), 2),\n",
       " (('Ed Helms', 'Ken Jeong'), 2),\n",
       " (('Zach Galifianakis', 'Ken Jeong'), 2),\n",
       " (('Justin Bartha', 'Ken Jeong'), 2),\n",
       " (('Dwayne Johnson', 'Carla Gugino'), 2),\n",
       " (('Sarah Jessica Parker', 'Kim Cattrall'), 2),\n",
       " (('Sarah Jessica Parker', 'Cynthia Nixon'), 2),\n",
       " (('Sarah Jessica Parker', 'Kristin Davis'), 2),\n",
       " (('Sarah Jessica Parker', 'Chris Noth'), 2),\n",
       " (('Kim Cattrall', 'Chris Noth'), 2),\n",
       " (('Cynthia Nixon', 'Chris Noth'), 2),\n",
       " (('Kristin Davis', 'Chris Noth'), 2),\n",
       " (('Ben Stiller', 'Dustin Hoffman'), 2),\n",
       " (('Ben Stiller', 'Barbra Streisand'), 2),\n",
       " (('Robert De Niro', 'Dustin Hoffman'), 2),\n",
       " (('Robert De Niro', 'Barbra Streisand'), 2),\n",
       " (('Dustin Hoffman', 'Barbra Streisand'), 2),\n",
       " (('Milla Jovovich', 'Sienna Guillory'), 2),\n",
       " (('Milla Jovovich', 'Oded Fehr'), 2),\n",
       " (('Wesley Snipes', 'Kris Kristofferson'), 2),\n",
       " (('Jason Bateman', 'Jennifer Aniston'), 2),\n",
       " (('Edgar RamÃ\\xadrez', 'Delroy Lindo'), 2),\n",
       " (('Bruce Willis', 'Matthew Perry'), 2),\n",
       " (('Matthew Perry', 'Kevin Pollak'), 2),\n",
       " (('Jason Biggs', 'Alyson Hannigan'), 2),\n",
       " (('Jason Biggs', 'Eddie Kaye Thomas'), 2),\n",
       " (('Alyson Hannigan', 'Seann William Scott'), 2),\n",
       " (('Alyson Hannigan', 'Thomas Ian Nicholas'), 2),\n",
       " (('Seann William Scott', 'Eddie Kaye Thomas'), 2),\n",
       " (('Seann William Scott', 'Thomas Ian Nicholas'), 2),\n",
       " (('Katie Featherston', 'Sprague Grayden'), 2),\n",
       " (('Milla Jovovich', 'Ali Larter'), 2),\n",
       " (('Logan Lerman', 'Brandon T. Jackson'), 2),\n",
       " (('Logan Lerman', 'Alexandra Daddario'), 2),\n",
       " (('Jason Biggs', 'Chris Klein'), 2),\n",
       " (('Sylvester Stallone', 'Dolph Lundgren'), 2),\n",
       " (('Jason Statham', 'Dolph Lundgren'), 2),\n",
       " (('Seth Rogen', 'Paul Rudd'), 2),\n",
       " (('Reese Witherspoon', 'Paul Rudd'), 2),\n",
       " (('Miles Teller', 'Michael B. Jordan'), 2),\n",
       " (('David Arquette', 'Neve Campbell'), 2),\n",
       " (('David Arquette', 'Courteney Cox'), 2),\n",
       " (('Neve Campbell', 'Courteney Cox'), 2),\n",
       " (('Seth Rogen', 'Leslie Mann'), 2),\n",
       " (('Leslie Mann', 'Jason Segel'), 2),\n",
       " (('Tina Fey', 'Amy Poehler'), 2),\n",
       " (('Jim Carrey', 'Richard Jenkins'), 2),\n",
       " (('Tobin Bell', 'Mark Rolston'), 2),\n",
       " (('Costas Mandylor', 'Mark Rolston'), 2),\n",
       " (('Betsy Russell', 'Mark Rolston'), 2),\n",
       " (('Anna Faris', 'Regina Hall'), 2),\n",
       " (('Ashley Greene', 'Peter Facinelli'), 2),\n",
       " (('Jet Li', 'DMX'), 2),\n",
       " (('DMX', 'Anthony Anderson'), 2),\n",
       " (('Tobin Bell', 'Scott Patterson'), 2),\n",
       " (('Scott Patterson', 'Betsy Russell'), 2),\n",
       " (('Richard Gere', 'Susan Sarandon'), 2),\n",
       " (('Steve Zahn', 'Rachael Harris'), 2),\n",
       " (('Seth Green', 'Breckin Meyer'), 2),\n",
       " (('Breckin Meyer', 'Amy Smart'), 2),\n",
       " (('Robert De Niro', 'Carla Gugino'), 2),\n",
       " (('Robin Williams', 'Johnny A. Sanchez'), 2),\n",
       " (('Brendan Fraser', 'John Hannah'), 2),\n",
       " (('Jennifer Lopez', 'Stanley Tucci'), 2),\n",
       " (('Steve Martin', 'Bonnie Hunt'), 2),\n",
       " (('Steve Martin', 'Tom Welling'), 2),\n",
       " (('Bonnie Hunt', 'Tom Welling'), 2),\n",
       " (('Steve Martin', 'Eugene Levy'), 2),\n",
       " (('Megan Fox', 'Will Arnett'), 2),\n",
       " (('Kristen Stewart', 'Billy Burke'), 2),\n",
       " (('Robert Pattinson', 'Billy Burke'), 2),\n",
       " (('Nicolas Cage', 'Eva Mendes'), 2),\n",
       " (('Brad Pitt', 'James Gandolfini'), 2),\n",
       " (('Cary Elwes', 'Joanna Lumley'), 2),\n",
       " (('Adam Sandler', 'John Turturro'), 2),\n",
       " (('Cheryl Hines', 'Jeff Daniels'), 2),\n",
       " (('Katherine Heigl', 'Ashton Kutcher'), 2),\n",
       " (('Nicole Kidman', 'Daniel Craig'), 2),\n",
       " (('Martin Lawrence', 'Nia Long'), 2),\n",
       " (('Emily Blunt', 'Jason Segel'), 2),\n",
       " (('Robert De Niro', 'Katherine Heigl'), 2),\n",
       " (('Ioan Gruffudd', 'Jessica Alba'), 2),\n",
       " (('Ioan Gruffudd', 'Chris Evans'), 2),\n",
       " (('Ioan Gruffudd', 'Michael Chiklis'), 2),\n",
       " (('Ioan Gruffudd', 'Julian McMahon'), 2),\n",
       " (('Jessica Alba', 'Chris Evans'), 2),\n",
       " (('Jessica Alba', 'Michael Chiklis'), 2),\n",
       " (('Jessica Alba', 'Julian McMahon'), 2),\n",
       " (('Chris Evans', 'Michael Chiklis'), 2),\n",
       " (('Chris Evans', 'Julian McMahon'), 2),\n",
       " (('Michael Chiklis', 'Julian McMahon'), 2),\n",
       " (('Sam Worthington', 'Liam Neeson'), 2),\n",
       " (('Sam Worthington', 'Ralph Fiennes'), 2),\n",
       " (('Liam Neeson', 'Ralph Fiennes'), 2),\n",
       " (('Jason Bateman', 'Jon Favreau'), 2),\n",
       " (('Jason Lee', 'David Cross'), 2),\n",
       " (('Angelina Jolie', 'Noah Taylor'), 2),\n",
       " (('Marlon Wayans', 'Shawn Wayans'), 2),\n",
       " (('Neil Patrick Harris', 'Hank Azaria'), 2),\n",
       " (('Chris Rock', 'Kerry Washington'), 2),\n",
       " (('Vince Vaughn', 'Jon Favreau'), 2),\n",
       " (('Cameron Diaz', 'Lucy Liu'), 2),\n",
       " (('Cameron Diaz', 'Drew Barrymore'), 2),\n",
       " (('Julia Roberts', 'Paul Giamatti'), 2),\n",
       " (('John Travolta', 'Vince Vaughn'), 2),\n",
       " (('Kevin James', 'Raini Rodriguez'), 2),\n",
       " (('Freddie Prinze Jr.', 'Matthew Lillard'), 2),\n",
       " (('Jason Biggs', 'Amanda Detmer'), 2),\n",
       " (('Frankie Muniz', 'Cynthia Stevenson'), 2),\n",
       " (('Jack Black', 'Amanda Peet'), 2),\n",
       " (('Antonio Banderas', 'Alexa PenaVega'), 2),\n",
       " (('Antonio Banderas', 'Daryl Sabara'), 2),\n",
       " (('Carla Gugino', 'Alexa PenaVega'), 2),\n",
       " (('Carla Gugino', 'Daryl Sabara'), 2),\n",
       " (('Kit Harington', 'Carrie-Anne Moss'), 2),\n",
       " (('Adam Campbell', 'Jennifer Coolidge'), 2),\n",
       " (('Christian Bale', 'Heath Ledger'), 1),\n",
       " (('Christian Bale', 'Aaron Eckhart'), 1),\n",
       " (('Michael Caine', 'Heath Ledger'), 1),\n",
       " (('Michael Caine', 'Aaron Eckhart'), 1),\n",
       " (('Heath Ledger', 'Aaron Eckhart'), 1),\n",
       " (('Heath Ledger', 'Gary Oldman'), 1),\n",
       " (('Aaron Eckhart', 'Gary Oldman'), 1),\n",
       " (('Matthew McConaughey', 'Jessica Chastain'), 1),\n",
       " (('Matthew McConaughey', 'Anne Hathaway'), 1),\n",
       " (('Matthew McConaughey', 'Michael Caine'), 1),\n",
       " (('Matthew McConaughey', 'Casey Affleck'), 1),\n",
       " (('Jessica Chastain', 'Anne Hathaway'), 1),\n",
       " (('Jessica Chastain', 'Michael Caine'), 1),\n",
       " (('Jessica Chastain', 'Casey Affleck'), 1),\n",
       " (('Anne Hathaway', 'Michael Caine'), 1),\n",
       " (('Anne Hathaway', 'Casey Affleck'), 1),\n",
       " (('Michael Caine', 'Casey Affleck'), 1),\n",
       " (('Benedict Cumberbatch', 'Keira Knightley'), 1),\n",
       " (('Benedict Cumberbatch', 'Matthew Goode'), 1),\n",
       " (('Benedict Cumberbatch', 'Rory Kinnear'), 1),\n",
       " (('Benedict Cumberbatch', 'Allen Leech'), 1),\n",
       " (('Keira Knightley', 'Matthew Goode'), 1),\n",
       " (('Keira Knightley', 'Rory Kinnear'), 1),\n",
       " (('Keira Knightley', 'Allen Leech'), 1),\n",
       " (('Matthew Goode', 'Rory Kinnear'), 1),\n",
       " (('Matthew Goode', 'Allen Leech'), 1),\n",
       " (('Rory Kinnear', 'Allen Leech'), 1),\n",
       " (('Amy Poehler', 'Phyllis Smith'), 1),\n",
       " (('Amy Poehler', 'Richard Kind'), 1),\n",
       " (('Amy Poehler', 'Bill Hader'), 1),\n",
       " (('Amy Poehler', 'Lewis Black'), 1),\n",
       " (('Phyllis Smith', 'Richard Kind'), 1),\n",
       " (('Phyllis Smith', 'Bill Hader'), 1),\n",
       " (('Phyllis Smith', 'Lewis Black'), 1),\n",
       " (('Richard Kind', 'Bill Hader'), 1),\n",
       " (('Richard Kind', 'Lewis Black'), 1),\n",
       " (('Bill Hader', 'Lewis Black'), 1),\n",
       " (('Brie Larson', 'Jacob Tremblay'), 1),\n",
       " (('Brie Larson', 'Joan Allen'), 1),\n",
       " (('Brie Larson', 'Sean Bridgers'), 1),\n",
       " (('Brie Larson', 'William H. Macy'), 1),\n",
       " (('Jacob Tremblay', 'Joan Allen'), 1),\n",
       " (('Jacob Tremblay', 'Sean Bridgers'), 1),\n",
       " (('Jacob Tremblay', 'William H. Macy'), 1),\n",
       " (('Joan Allen', 'Sean Bridgers'), 1),\n",
       " (('Joan Allen', 'William H. Macy'), 1),\n",
       " (('Sean Bridgers', 'William H. Macy'), 1),\n",
       " (('Leonardo DiCaprio', 'Jonah Hill'), 1),\n",
       " (('Leonardo DiCaprio', 'Margot Robbie'), 1),\n",
       " (('Leonardo DiCaprio', 'Kyle Chandler'), 1),\n",
       " (('Leonardo DiCaprio', 'Rob Reiner'), 1),\n",
       " (('Jonah Hill', 'Margot Robbie'), 1),\n",
       " (('Jonah Hill', 'Kyle Chandler'), 1),\n",
       " (('Jonah Hill', 'Rob Reiner'), 1),\n",
       " (('Margot Robbie', 'Kyle Chandler'), 1),\n",
       " (('Margot Robbie', 'Rob Reiner'), 1),\n",
       " (('Kyle Chandler', 'Rob Reiner'), 1),\n",
       " (('Ben Affleck', 'Rosamund Pike'), 1),\n",
       " (('Ben Affleck', 'Carrie Coon'), 1),\n",
       " (('Ben Affleck', 'Neil Patrick Harris'), 1),\n",
       " (('Ben Affleck', 'Tyler Perry'), 1),\n",
       " (('Rosamund Pike', 'Carrie Coon'), 1),\n",
       " (('Rosamund Pike', 'Neil Patrick Harris'), 1),\n",
       " (('Rosamund Pike', 'Tyler Perry'), 1),\n",
       " (('Carrie Coon', 'Neil Patrick Harris'), 1),\n",
       " (('Carrie Coon', 'Tyler Perry'), 1),\n",
       " (('Neil Patrick Harris', 'Tyler Perry'), 1),\n",
       " (('Chiwetel Ejiofor', 'Michael Fassbender'), 1),\n",
       " (('Chiwetel Ejiofor', \"Lupita Nyong'o\"), 1),\n",
       " (('Chiwetel Ejiofor', 'Benedict Cumberbatch'), 1),\n",
       " (('Chiwetel Ejiofor', 'Paul Dano'), 1),\n",
       " (('Michael Fassbender', \"Lupita Nyong'o\"), 1),\n",
       " (('Michael Fassbender', 'Benedict Cumberbatch'), 1),\n",
       " (('Michael Fassbender', 'Paul Dano'), 1),\n",
       " ((\"Lupita Nyong'o\", 'Benedict Cumberbatch'), 1),\n",
       " ((\"Lupita Nyong'o\", 'Paul Dano'), 1),\n",
       " (('Benedict Cumberbatch', 'Paul Dano'), 1),\n",
       " (('Chris Pratt', 'Zoe Saldana'), 1),\n",
       " (('Chris Pratt', 'Dave Bautista'), 1),\n",
       " (('Chris Pratt', 'Vin Diesel'), 1),\n",
       " (('Chris Pratt', 'Bradley Cooper'), 1),\n",
       " (('Zoe Saldana', 'Dave Bautista'), 1),\n",
       " (('Zoe Saldana', 'Vin Diesel'), 1),\n",
       " (('Zoe Saldana', 'Bradley Cooper'), 1),\n",
       " (('Dave Bautista', 'Vin Diesel'), 1),\n",
       " (('Dave Bautista', 'Bradley Cooper'), 1),\n",
       " (('Vin Diesel', 'Bradley Cooper'), 1),\n",
       " (('Guy Pearce', 'Carrie-Anne Moss'), 1),\n",
       " (('Guy Pearce', 'Joe Pantoliano'), 1),\n",
       " (('Guy Pearce', 'Mark Boone Junior'), 1),\n",
       " (('Guy Pearce', 'Russ Fega'), 1),\n",
       " (('Carrie-Anne Moss', 'Joe Pantoliano'), 1),\n",
       " (('Carrie-Anne Moss', 'Mark Boone Junior'), 1),\n",
       " (('Carrie-Anne Moss', 'Russ Fega'), 1),\n",
       " (('Joe Pantoliano', 'Mark Boone Junior'), 1),\n",
       " (('Joe Pantoliano', 'Russ Fega'), 1),\n",
       " (('Mark Boone Junior', 'Russ Fega'), 1),\n",
       " (('Leonardo DiCaprio', 'Joseph Gordon-Levitt'), 1),\n",
       " (('Leonardo DiCaprio', 'Ellen Page'), 1),\n",
       " (('Leonardo DiCaprio', 'Ken Watanabe'), 1),\n",
       " (('Joseph Gordon-Levitt', 'Ellen Page'), 1),\n",
       " (('Joseph Gordon-Levitt', 'Tom Hardy'), 1),\n",
       " (('Joseph Gordon-Levitt', 'Ken Watanabe'), 1),\n",
       " (('Ellen Page', 'Tom Hardy'), 1),\n",
       " (('Ellen Page', 'Ken Watanabe'), 1),\n",
       " (('Tom Hardy', 'Ken Watanabe'), 1),\n",
       " (('Adrien Brody', 'Frank Finlay'), 1),\n",
       " (('Adrien Brody', 'Maureen Lipman'), 1),\n",
       " (('Adrien Brody', 'Emilia Fox'), 1),\n",
       " (('Thomas Kretschmann', 'Frank Finlay'), 1),\n",
       " (('Thomas Kretschmann', 'Maureen Lipman'), 1),\n",
       " (('Thomas Kretschmann', 'Emilia Fox'), 1),\n",
       " (('Frank Finlay', 'Maureen Lipman'), 1),\n",
       " (('Frank Finlay', 'Emilia Fox'), 1),\n",
       " (('Maureen Lipman', 'Emilia Fox'), 1),\n",
       " (('Ralph Fiennes', 'Tony Revolori'), 1),\n",
       " (('Ralph Fiennes', 'F. Murray Abraham'), 1),\n",
       " (('Ralph Fiennes', 'Mathieu Amalric'), 1),\n",
       " (('Ralph Fiennes', 'Adrien Brody'), 1),\n",
       " (('Tony Revolori', 'F. Murray Abraham'), 1),\n",
       " (('Tony Revolori', 'Mathieu Amalric'), 1),\n",
       " (('Tony Revolori', 'Adrien Brody'), 1),\n",
       " (('F. Murray Abraham', 'Mathieu Amalric'), 1),\n",
       " (('F. Murray Abraham', 'Adrien Brody'), 1),\n",
       " (('Mathieu Amalric', 'Adrien Brody'), 1),\n",
       " (('Joaquin Phoenix', 'Scarlett Johansson'), 1),\n",
       " (('Joaquin Phoenix', 'Rooney Mara'), 1),\n",
       " (('Joaquin Phoenix', 'Olivia Wilde'), 1),\n",
       " (('Scarlett Johansson', 'Rooney Mara'), 1),\n",
       " (('Scarlett Johansson', 'Amy Adams'), 1),\n",
       " (('Scarlett Johansson', 'Olivia Wilde'), 1),\n",
       " (('Rooney Mara', 'Amy Adams'), 1),\n",
       " (('Rooney Mara', 'Olivia Wilde'), 1),\n",
       " (('Amy Adams', 'Olivia Wilde'), 1),\n",
       " (('Mark Ruffalo', 'Michael Keaton'), 1),\n",
       " (('Mark Ruffalo', 'Rachel McAdams'), 1),\n",
       " (('Mark Ruffalo', 'Liev Schreiber'), 1),\n",
       " (('Mark Ruffalo', 'John Slattery'), 1),\n",
       " (('Michael Keaton', 'Rachel McAdams'), 1),\n",
       " (('Michael Keaton', 'Liev Schreiber'), 1),\n",
       " (('Michael Keaton', 'John Slattery'), 1),\n",
       " (('Rachel McAdams', 'Liev Schreiber'), 1),\n",
       " (('Rachel McAdams', 'John Slattery'), 1),\n",
       " (('Liev Schreiber', 'John Slattery'), 1),\n",
       " (('Scott Adsit', 'Ryan Potter'), 1),\n",
       " (('Scott Adsit', 'Daniel Henney'), 1),\n",
       " (('Scott Adsit', 'T.J. Miller'), 1),\n",
       " (('Scott Adsit', 'Jamie Chung'), 1),\n",
       " (('Ryan Potter', 'Daniel Henney'), 1),\n",
       " (('Ryan Potter', 'T.J. Miller'), 1),\n",
       " (('Ryan Potter', 'Jamie Chung'), 1),\n",
       " (('Daniel Henney', 'T.J. Miller'), 1),\n",
       " (('Daniel Henney', 'Jamie Chung'), 1),\n",
       " (('T.J. Miller', 'Jamie Chung'), 1),\n",
       " (('Shailene Woodley', 'Nat Wolff'), 1),\n",
       " (('Shailene Woodley', 'Laura Dern'), 1),\n",
       " (('Shailene Woodley', 'Sam Trammell'), 1),\n",
       " (('Ansel Elgort', 'Nat Wolff'), 1),\n",
       " (('Ansel Elgort', 'Laura Dern'), 1),\n",
       " (('Ansel Elgort', 'Sam Trammell'), 1),\n",
       " (('Nat Wolff', 'Laura Dern'), 1),\n",
       " (('Nat Wolff', 'Sam Trammell'), 1),\n",
       " (('Laura Dern', 'Sam Trammell'), 1),\n",
       " (('Daniel Day-Lewis', 'Paul Dano'), 1),\n",
       " (('Daniel Day-Lewis', 'Dillon Freasier'), 1),\n",
       " (('Daniel Day-Lewis', 'CiarÃ¡n Hinds'), 1),\n",
       " (('Daniel Day-Lewis', \"Kevin J. O'Connor\"), 1),\n",
       " (('Paul Dano', 'Dillon Freasier'), 1),\n",
       " (('Paul Dano', 'CiarÃ¡n Hinds'), 1),\n",
       " (('Paul Dano', \"Kevin J. O'Connor\"), 1),\n",
       " (('Dillon Freasier', 'CiarÃ¡n Hinds'), 1),\n",
       " (('Dillon Freasier', \"Kevin J. O'Connor\"), 1),\n",
       " (('CiarÃ¡n Hinds', \"Kevin J. O'Connor\"), 1),\n",
       " (('Eddie Redmayne', 'Felicity Jones'), 1),\n",
       " (('Eddie Redmayne', 'Harry Lloyd'), 1),\n",
       " (('Eddie Redmayne', 'David Thewlis'), 1),\n",
       " (('Eddie Redmayne', 'Emily Watson'), 1),\n",
       " (('Felicity Jones', 'Harry Lloyd'), 1),\n",
       " (('Felicity Jones', 'David Thewlis'), 1),\n",
       " (('Felicity Jones', 'Emily Watson'), 1),\n",
       " (('Harry Lloyd', 'David Thewlis'), 1),\n",
       " (('Harry Lloyd', 'Emily Watson'), 1),\n",
       " (('David Thewlis', 'Emily Watson'), 1),\n",
       " (('Hugh Jackman', 'Christian Bale'), 1),\n",
       " (('Hugh Jackman', 'Michael Caine'), 1),\n",
       " (('Hugh Jackman', 'Scarlett Johansson'), 1),\n",
       " (('Hugh Jackman', 'Andy Serkis'), 1),\n",
       " (('Christian Bale', 'Scarlett Johansson'), 1),\n",
       " (('Christian Bale', 'Andy Serkis'), 1),\n",
       " (('Michael Caine', 'Scarlett Johansson'), 1),\n",
       " (('Michael Caine', 'Andy Serkis'), 1),\n",
       " (('Scarlett Johansson', 'Andy Serkis'), 1),\n",
       " (('Jim Carrey', 'Kate Winslet'), 1),\n",
       " (('Jim Carrey', 'Elijah Wood'), 1),\n",
       " (('Jim Carrey', 'Mark Ruffalo'), 1),\n",
       " (('Jim Carrey', 'Kirsten Dunst'), 1),\n",
       " (('Kate Winslet', 'Elijah Wood'), 1),\n",
       " (('Kate Winslet', 'Mark Ruffalo'), 1),\n",
       " (('Kate Winslet', 'Kirsten Dunst'), 1),\n",
       " (('Elijah Wood', 'Mark Ruffalo'), 1),\n",
       " (('Elijah Wood', 'Kirsten Dunst'), 1),\n",
       " (('Mark Ruffalo', 'Kirsten Dunst'), 1),\n",
       " (('Aamir Khan', 'Kareena Kapoor'), 1),\n",
       " (('Aamir Khan', 'Madhavan'), 1),\n",
       " (('Aamir Khan', 'Sharman Joshi'), 1),\n",
       " (('Aamir Khan', 'Boman Irani'), 1),\n",
       " (('Kareena Kapoor', 'Madhavan'), 1),\n",
       " (('Kareena Kapoor', 'Sharman Joshi'), 1),\n",
       " (('Kareena Kapoor', 'Boman Irani'), 1),\n",
       " (('Madhavan', 'Sharman Joshi'), 1),\n",
       " (('Madhavan', 'Boman Irani'), 1),\n",
       " (('Sharman Joshi', 'Boman Irani'), 1),\n",
       " (('Jared Leto', 'Diane Kruger'), 1),\n",
       " (('Jared Leto', 'Linh Äan Pháº¡m'), 1),\n",
       " (('Jared Leto', 'Sarah Polley'), 1),\n",
       " (('Jared Leto', 'Rhys Ifans'), 1),\n",
       " (('Diane Kruger', 'Linh Äan Pháº¡m'), 1),\n",
       " (('Diane Kruger', 'Sarah Polley'), 1),\n",
       " (('Diane Kruger', 'Rhys Ifans'), 1),\n",
       " (('Linh Äan Pháº¡m', 'Sarah Polley'), 1),\n",
       " (('Linh Äan Pháº¡m', 'Rhys Ifans'), 1),\n",
       " (('Sarah Polley', 'Rhys Ifans'), 1),\n",
       " (('Hugh Jackman', 'Jake Gyllenhaal'), 1),\n",
       " (('Hugh Jackman', 'Paul Dano'), 1),\n",
       " (('Hugh Jackman', 'Maria Bello'), 1),\n",
       " (('Hugh Jackman', 'Melissa Leo'), 1),\n",
       " (('Jake Gyllenhaal', 'Paul Dano'), 1),\n",
       " (('Jake Gyllenhaal', 'Maria Bello'), 1),\n",
       " (('Jake Gyllenhaal', 'Melissa Leo'), 1),\n",
       " (('Paul Dano', 'Maria Bello'), 1),\n",
       " (('Paul Dano', 'Melissa Leo'), 1),\n",
       " (('Maria Bello', 'Melissa Leo'), 1),\n",
       " (('Matthew McConaughey', 'Jennifer Garner'), 1),\n",
       " (('Matthew McConaughey', 'Jared Leto'), 1),\n",
       " (('Matthew McConaughey', \"Denis O'Hare\"), 1),\n",
       " (('Jennifer Garner', 'Jared Leto'), 1),\n",
       " (('Jennifer Garner', \"Denis O'Hare\"), 1),\n",
       " (('Jennifer Garner', 'Steve Zahn'), 1),\n",
       " (('Jared Leto', \"Denis O'Hare\"), 1),\n",
       " (('Jared Leto', 'Steve Zahn'), 1),\n",
       " ((\"Denis O'Hare\", 'Steve Zahn'), 1),\n",
       " ((\"O'Shea Jackson Jr.\", 'Corey Hawkins'), 1),\n",
       " ((\"O'Shea Jackson Jr.\", 'Jason Mitchell'), 1),\n",
       " ((\"O'Shea Jackson Jr.\", 'Neil Brown Jr.'), 1),\n",
       " ((\"O'Shea Jackson Jr.\", 'Aldis Hodge'), 1),\n",
       " (('Corey Hawkins', 'Jason Mitchell'), 1),\n",
       " (('Corey Hawkins', 'Neil Brown Jr.'), 1),\n",
       " (('Corey Hawkins', 'Aldis Hodge'), 1),\n",
       " (('Jason Mitchell', 'Neil Brown Jr.'), 1),\n",
       " (('Jason Mitchell', 'Aldis Hodge'), 1),\n",
       " (('Neil Brown Jr.', 'Aldis Hodge'), 1),\n",
       " (('Richard Gere', 'Joan Allen'), 1),\n",
       " (('Richard Gere', 'Jason Alexander'), 1),\n",
       " (('Richard Gere', 'Cary-Hiroyuki Tagawa'), 1),\n",
       " (('Richard Gere', 'Sarah Roemer'), 1),\n",
       " (('Joan Allen', 'Jason Alexander'), 1),\n",
       " (('Joan Allen', 'Cary-Hiroyuki Tagawa'), 1),\n",
       " (('Joan Allen', 'Sarah Roemer'), 1),\n",
       " (('Jason Alexander', 'Cary-Hiroyuki Tagawa'), 1),\n",
       " (('Jason Alexander', 'Sarah Roemer'), 1),\n",
       " (('Cary-Hiroyuki Tagawa', 'Sarah Roemer'), 1),\n",
       " (('Daniel Radcliffe', 'Alan Rickman'), 1),\n",
       " (('Daniel Radcliffe', 'Maggie Smith'), 1),\n",
       " (('Rupert Grint', 'Alan Rickman'), 1),\n",
       " (('Rupert Grint', 'Maggie Smith'), 1),\n",
       " (('Emma Watson', 'Alan Rickman'), 1),\n",
       " (('Emma Watson', 'Maggie Smith'), 1),\n",
       " (('Alan Rickman', 'Maggie Smith'), 1),\n",
       " (('Geoffrey Rush', 'Jim Sturgess'), 1),\n",
       " (('Geoffrey Rush', 'Sylvia Hoeks'), 1),\n",
       " (('Geoffrey Rush', 'Donald Sutherland'), 1),\n",
       " (('Geoffrey Rush', 'Maximilian Dirr'), 1),\n",
       " (('Jim Sturgess', 'Sylvia Hoeks'), 1),\n",
       " (('Jim Sturgess', 'Donald Sutherland'), 1),\n",
       " (('Jim Sturgess', 'Maximilian Dirr'), 1),\n",
       " (('Sylvia Hoeks', 'Donald Sutherland'), 1),\n",
       " (('Sylvia Hoeks', 'Maximilian Dirr'), 1),\n",
       " (('Donald Sutherland', 'Maximilian Dirr'), 1),\n",
       " (('Jay Baruchel', 'Kristen Wiig'), 1),\n",
       " (('Jay Baruchel', 'Cate Blanchett'), 1),\n",
       " (('Gerard Butler', 'Kristen Wiig'), 1),\n",
       " (('Gerard Butler', 'Cate Blanchett'), 1),\n",
       " (('Kristen Wiig', 'Jonah Hill'), 1),\n",
       " (('Kristen Wiig', 'Cate Blanchett'), 1),\n",
       " (('Jonah Hill', 'Cate Blanchett'), 1),\n",
       " (('Tom Cruise', 'Emily Blunt'), 1),\n",
       " (('Tom Cruise', 'Brendan Gleeson'), 1),\n",
       " (('Tom Cruise', 'Bill Paxton'), 1),\n",
       " (('Tom Cruise', 'Jonas Armstrong'), 1),\n",
       " (('Emily Blunt', 'Brendan Gleeson'), 1),\n",
       " (('Emily Blunt', 'Bill Paxton'), 1),\n",
       " (('Emily Blunt', 'Jonas Armstrong'), 1),\n",
       " (('Brendan Gleeson', 'Bill Paxton'), 1),\n",
       " (('Brendan Gleeson', 'Jonas Armstrong'), 1),\n",
       " (('Bill Paxton', 'Jonas Armstrong'), 1),\n",
       " (('Brad Pitt', 'MÃ©lanie Laurent'), 1),\n",
       " (('Brad Pitt', 'Christoph Waltz'), 1),\n",
       " (('Brad Pitt', 'Eli Roth'), 1),\n",
       " (('Brad Pitt', 'Michael Fassbender'), 1),\n",
       " (('MÃ©lanie Laurent', 'Christoph Waltz'), 1),\n",
       " (('MÃ©lanie Laurent', 'Eli Roth'), 1),\n",
       " (('MÃ©lanie Laurent', 'Michael Fassbender'), 1),\n",
       " (('Christoph Waltz', 'Eli Roth'), 1),\n",
       " (('Christoph Waltz', 'Michael Fassbender'), 1),\n",
       " (('Eli Roth', 'Michael Fassbender'), 1),\n",
       " (('Tom Hanks', 'Catherine Keener'), 1),\n",
       " (('Tom Hanks', 'Max Martini'), 1),\n",
       " (('Tom Hanks', 'Chris Mulkey'), 1),\n",
       " (('Tom Hanks', 'Yul Vazquez'), 1),\n",
       " (('Catherine Keener', 'Max Martini'), 1),\n",
       " (('Catherine Keener', 'Chris Mulkey'), 1),\n",
       " (('Catherine Keener', 'Yul Vazquez'), 1),\n",
       " (('Max Martini', 'Chris Mulkey'), 1),\n",
       " (('Max Martini', 'Yul Vazquez'), 1),\n",
       " (('Chris Mulkey', 'Yul Vazquez'), 1),\n",
       " (('Leonardo DiCaprio', 'Matt Damon'), 1),\n",
       " (('Leonardo DiCaprio', 'Jack Nicholson'), 1),\n",
       " (('Leonardo DiCaprio', 'Mark Wahlberg'), 1),\n",
       " (('Matt Damon', 'Jack Nicholson'), 1),\n",
       " (('Matt Damon', 'Mark Wahlberg'), 1),\n",
       " (('Matt Damon', 'Martin Sheen'), 1),\n",
       " (('Jack Nicholson', 'Mark Wahlberg'), 1),\n",
       " (('Jack Nicholson', 'Martin Sheen'), 1),\n",
       " (('Mark Wahlberg', 'Martin Sheen'), 1),\n",
       " (('Jamie Foxx', 'Christoph Waltz'), 1),\n",
       " (('Jamie Foxx', 'Leonardo DiCaprio'), 1),\n",
       " (('Jamie Foxx', 'Samuel L. Jackson'), 1),\n",
       " (('Christoph Waltz', 'Leonardo DiCaprio'), 1),\n",
       " (('Christoph Waltz', 'Kerry Washington'), 1),\n",
       " (('Christoph Waltz', 'Samuel L. Jackson'), 1),\n",
       " (('Leonardo DiCaprio', 'Kerry Washington'), 1),\n",
       " (('Leonardo DiCaprio', 'Samuel L. Jackson'), 1),\n",
       " (('Kerry Washington', 'Samuel L. Jackson'), 1),\n",
       " (('Russell Crowe', 'Joaquin Phoenix'), 1),\n",
       " (('Russell Crowe', 'Connie Nielsen'), 1),\n",
       " (('Russell Crowe', 'Oliver Reed'), 1),\n",
       " (('Russell Crowe', 'Richard Harris'), 1),\n",
       " (('Joaquin Phoenix', 'Connie Nielsen'), 1),\n",
       " (('Joaquin Phoenix', 'Oliver Reed'), 1),\n",
       " (('Joaquin Phoenix', 'Richard Harris'), 1),\n",
       " (('Connie Nielsen', 'Oliver Reed'), 1),\n",
       " (('Connie Nielsen', 'Richard Harris'), 1),\n",
       " (('Oliver Reed', 'Richard Harris'), 1),\n",
       " (('Daniel BrÃ¼hl', 'Chris Hemsworth'), 1),\n",
       " (('Daniel BrÃ¼hl', 'Olivia Wilde'), 1),\n",
       " (('Daniel BrÃ¼hl', 'Alexandra Maria Lara'), 1),\n",
       " (('Daniel BrÃ¼hl', 'Natalie Dormer'), 1),\n",
       " (('Chris Hemsworth', 'Olivia Wilde'), 1),\n",
       " (('Chris Hemsworth', 'Alexandra Maria Lara'), 1),\n",
       " (('Chris Hemsworth', 'Natalie Dormer'), 1),\n",
       " (('Olivia Wilde', 'Alexandra Maria Lara'), 1),\n",
       " (('Olivia Wilde', 'Natalie Dormer'), 1),\n",
       " (('Alexandra Maria Lara', 'Natalie Dormer'), 1),\n",
       " (('Emile Hirsch', 'Marcia Gay Harden'), 1),\n",
       " (('Emile Hirsch', 'William Hurt'), 1),\n",
       " (('Emile Hirsch', 'Jena Malone'), 1),\n",
       " (('Emile Hirsch', 'Brian H. Dierker'), 1),\n",
       " (('Marcia Gay Harden', 'William Hurt'), 1),\n",
       " (('Marcia Gay Harden', 'Jena Malone'), 1),\n",
       " (('Marcia Gay Harden', 'Brian H. Dierker'), 1),\n",
       " (('William Hurt', 'Jena Malone'), 1),\n",
       " (('William Hurt', 'Brian H. Dierker'), 1),\n",
       " (('Jena Malone', 'Brian H. Dierker'), 1),\n",
       " (('Chris Evans', 'Samuel L. Jackson'), 1),\n",
       " (('Chris Evans', 'Robert Redford'), 1),\n",
       " (('Scarlett Johansson', 'Sebastian Stan'), 1),\n",
       " (('Scarlett Johansson', 'Robert Redford'), 1),\n",
       " (('Sebastian Stan', 'Samuel L. Jackson'), 1),\n",
       " (('Sebastian Stan', 'Robert Redford'), 1),\n",
       " (('Samuel L. Jackson', 'Robert Redford'), 1),\n",
       " (('Leonardo DiCaprio', 'Tom Hanks'), 1),\n",
       " (('Leonardo DiCaprio', 'Christopher Walken'), 1),\n",
       " (('Leonardo DiCaprio', 'Amy Adams'), 1),\n",
       " (('Tom Hanks', 'Christopher Walken'), 1),\n",
       " (('Tom Hanks', 'Martin Sheen'), 1),\n",
       " (('Christopher Walken', 'Martin Sheen'), 1),\n",
       " (('Christopher Walken', 'Amy Adams'), 1),\n",
       " (('Martin Sheen', 'Amy Adams'), 1),\n",
       " (('Hugh Jackman', 'James McAvoy'), 1),\n",
       " (('Hugh Jackman', 'Michael Fassbender'), 1),\n",
       " (('James McAvoy', 'Ian McKellen'), 1),\n",
       " (('Patrick Stewart', 'Michael Fassbender'), 1),\n",
       " (('Michael Fassbender', 'Ian McKellen'), 1),\n",
       " (('Bruce Willis', 'Edward Norton'), 1),\n",
       " (('Bruce Willis', 'Jared Gilman'), 1),\n",
       " (('Bruce Willis', 'Kara Hayward'), 1),\n",
       " (('Bruce Willis', 'Bill Murray'), 1),\n",
       " (('Edward Norton', 'Jared Gilman'), 1),\n",
       " (('Edward Norton', 'Kara Hayward'), 1),\n",
       " (('Edward Norton', 'Bill Murray'), 1),\n",
       " (('Jared Gilman', 'Kara Hayward'), 1),\n",
       " (('Jared Gilman', 'Bill Murray'), 1),\n",
       " (('Kara Hayward', 'Bill Murray'), 1),\n",
       " (('Jake Gyllenhaal', 'Rene Russo'), 1),\n",
       " (('Jake Gyllenhaal', 'Riz Ahmed'), 1),\n",
       " (('Jake Gyllenhaal', 'Bill Paxton'), 1),\n",
       " (('Jake Gyllenhaal', 'Kevin Rahm'), 1),\n",
       " (('Rene Russo', 'Riz Ahmed'), 1),\n",
       " (('Rene Russo', 'Bill Paxton'), 1),\n",
       " (('Rene Russo', 'Kevin Rahm'), 1),\n",
       " (('Riz Ahmed', 'Bill Paxton'), 1),\n",
       " (('Riz Ahmed', 'Kevin Rahm'), 1),\n",
       " (('Bill Paxton', 'Kevin Rahm'), 1),\n",
       " (('Logan Lerman', 'Emma Watson'), 1),\n",
       " (('Logan Lerman', 'Ezra Miller'), 1),\n",
       " (('Logan Lerman', 'Paul Rudd'), 1),\n",
       " (('Logan Lerman', 'Nina Dobrev'), 1),\n",
       " (('Emma Watson', 'Ezra Miller'), 1),\n",
       " (('Emma Watson', 'Paul Rudd'), 1),\n",
       " (('Emma Watson', 'Nina Dobrev'), 1),\n",
       " (('Ezra Miller', 'Paul Rudd'), 1),\n",
       " (('Ezra Miller', 'Nina Dobrev'), 1),\n",
       " (('Paul Rudd', 'Nina Dobrev'), 1),\n",
       " (('Ben Burtt', 'Elissa Knight'), 1),\n",
       " (('Ben Burtt', 'Jeff Garlin'), 1),\n",
       " (('Ben Burtt', 'Fred Willard'), 1),\n",
       " (('Ben Burtt', 'John Ratzenberger'), 1),\n",
       " (('Elissa Knight', 'Jeff Garlin'), 1),\n",
       " (('Elissa Knight', 'Fred Willard'), 1),\n",
       " (('Elissa Knight', 'John Ratzenberger'), 1),\n",
       " (('Jeff Garlin', 'Fred Willard'), 1),\n",
       " (('Jeff Garlin', 'John Ratzenberger'), 1),\n",
       " (('Fred Willard', 'John Ratzenberger'), 1),\n",
       " (('Vera Farmiga', 'David Thewlis'), 1),\n",
       " (('Vera Farmiga', 'Rupert Friend'), 1),\n",
       " (('Vera Farmiga', 'David Hayman'), 1),\n",
       " (('Vera Farmiga', 'Asa Butterfield'), 1),\n",
       " (('David Thewlis', 'Rupert Friend'), 1),\n",
       " (('David Thewlis', 'David Hayman'), 1),\n",
       " ...]"
      ]
     },
     "execution_count": 102,
     "metadata": {},
     "output_type": "execute_result"
    }
   ],
   "source": [
    "import collections\n",
    "actors_list = data['cast'].str.split('|').tolist()\n",
    "'''List with group of actors from each film'''\n",
    "actor_pairs_in_films = []\n",
    "'''Created for appending correct actor pairs in the cycle below'''\n",
    "\n",
    "for x in actors_list:\n",
    "    for item in itertools.combinations(x, 2):\n",
    "        actor_pairs_in_films.append(item)\n",
    "\n",
    "counter = collections.Counter(actor_pairs_in_films)\n",
    "counter.most_common()"
   ]
  },
  {
   "cell_type": "markdown",
   "metadata": {
    "colab_type": "text",
    "id": "U0nONFnGVqAX"
   },
   "source": [
    "# Submission"
   ]
  },
  {
   "cell_type": "code",
   "execution_count": 106,
   "metadata": {
    "colab": {},
    "colab_type": "code",
    "id": "IfcaRO9-VqAX",
    "outputId": "0f132912-32bb-4196-c98c-abfbc4ad5a5f"
   },
   "outputs": [
    {
     "data": {
      "text/plain": [
       "{'1': 'Pirates of the Caribbean: On Stranger Tides (tt1298650)',\n",
       " '2': 'Gods and Generals (tt0279111)',\n",
       " '3': 'Winnie the Pooh (tt1449283)',\n",
       " '4': '110',\n",
       " '5': '107',\n",
       " '6': 'Avatar (tt0499549)',\n",
       " '7': 'The Lone Ranger (tt1210819)',\n",
       " '8': '1478',\n",
       " '9': 'The Dark Knight (tt0468569)',\n",
       " '10': 'The Lone Ranger (tt1210819)',\n",
       " '11': 'Drama',\n",
       " '12': 'Drama',\n",
       " '13': 'Peter Jackson',\n",
       " '14': 'Robert Rodriguez',\n",
       " '15': 'Chris Hemsworth',\n",
       " '16': 'Matt Damon',\n",
       " '17': 'Action',\n",
       " '18': 'K-19: The Widowmaker (tt0267626)',\n",
       " '19': '2015',\n",
       " '20': '2014',\n",
       " '21': 'Сентябрь',\n",
       " '22': '450',\n",
       " '23': 'Peter Jackson',\n",
       " '25': 'Midnight Picture Show',\n",
       " '26': 'Inside Out, The Dark Knight, 12 Years a Slave',\n",
       " '27': 'Daniel Radcliffe & Rupert Grint',\n",
       " '24': 'Four By Two Productions'}"
      ]
     },
     "execution_count": 106,
     "metadata": {},
     "output_type": "execute_result"
    }
   ],
   "source": [
    "# в конце можно посмотреть свои ответы к каждому вопросу\n",
    "answers"
   ]
  },
  {
   "cell_type": "code",
   "execution_count": 107,
   "metadata": {
    "colab": {},
    "colab_type": "code",
    "id": "SiRmHPl8VqAd"
   },
   "outputs": [
    {
     "data": {
      "text/plain": [
       "27"
      ]
     },
     "execution_count": 107,
     "metadata": {},
     "output_type": "execute_result"
    }
   ],
   "source": [
    "# и убедиться что ни чего не пропустил)\n",
    "len(answers)"
   ]
  }
 ],
 "metadata": {
  "colab": {
   "name": "Copy of [SF-DST] Movies IMBD v4.1 TEMPLATE.ipynb",
   "provenance": []
  },
  "kernelspec": {
   "display_name": "Python 3",
   "language": "python",
   "name": "python3"
  },
  "language_info": {
   "codemirror_mode": {
    "name": "ipython",
    "version": 3
   },
   "file_extension": ".py",
   "mimetype": "text/x-python",
   "name": "python",
   "nbconvert_exporter": "python",
   "pygments_lexer": "ipython3",
   "version": "3.7.6"
  }
 },
 "nbformat": 4,
 "nbformat_minor": 1
}
